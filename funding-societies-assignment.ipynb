{
 "cells": [
  {
   "cell_type": "code",
   "execution_count": 146,
   "metadata": {},
   "outputs": [
    {
     "name": "stderr",
     "output_type": "stream",
     "text": [
      "IOPub data rate exceeded.\n",
      "The notebook server will temporarily stop sending output\n",
      "to the client in order to avoid crashing it.\n",
      "To change this limit, set the config variable\n",
      "`--NotebookApp.iopub_data_rate_limit`.\n"
     ]
    }
   ],
   "source": [
    "import pandas as pd\n",
    "import numpy as np\n",
    "import statsmodels.api as sm\n",
    "from statsmodels.stats.outliers_influence import variance_inflation_factor\n",
    "from scipy import stats\n",
    "\n",
    "# visualisation tools\n",
    "import matplotlib.pyplot as plt \n",
    "import seaborn as sns\n",
    "from plotly import tools\n",
    "import plotly.plotly as py\n",
    "import plotly.figure_factory as ff\n",
    "import plotly.graph_objs as go\n",
    "from plotly.offline import download_plotlyjs, init_notebook_mode, plot, iplot\n",
    "offline.init_notebook_mode()\n",
    "\n",
    "# modelling\n",
    "from sklearn.ensemble import RandomForestClassifier\n",
    "from sklearn.model_selection import train_test_split\n",
    "from sklearn.preprocessing import MinMaxScaler\n",
    "from sklearn.metrics import classification_report, confusion_matrix, accuracy_score, roc_auc_score, f1_score, precision_score, recall_score, make_scorer\n",
    "from sklearn.feature_selection import RFECV\n",
    "from sklearn.model_selection import StratifiedKFold, GridSearchCV\n",
    "\n",
    "%matplotlib inline\n",
    "pd.set_option('display.max_columns', 100)"
   ]
  },
  {
   "cell_type": "code",
   "execution_count": 163,
   "metadata": {
    "scrolled": true
   },
   "outputs": [
    {
     "name": "stderr",
     "output_type": "stream",
     "text": [
      "/Users/timong/anaconda/envs/py36/lib/python3.6/site-packages/IPython/core/interactiveshell.py:2728: DtypeWarning:\n",
      "\n",
      "Columns (19) have mixed types. Specify dtype option on import or set low_memory=False.\n",
      "\n"
     ]
    }
   ],
   "source": [
    "df = pd.read_csv('./loans_fs.csv', index_col=0)"
   ]
  },
  {
   "cell_type": "markdown",
   "metadata": {},
   "source": [
    "# Objective\n",
    "\n",
    "The goal of this project is to determine which features would be useful in predicting borrowers who will repay their loan in time\n",
    "\n",
    "# Key Takeways\n",
    "\n",
    "1. Most important features to look at in predicting good borrowers are **sub-grade** and **annual income**\n",
    "2. It was quite difficult to determine the important features with just the use of EDA. As such, I carried on to use machine learning models to further evaluate the importance of each feature"
   ]
  },
  {
   "cell_type": "markdown",
   "metadata": {},
   "source": [
    "# Data Cleaning"
   ]
  },
  {
   "cell_type": "code",
   "execution_count": 149,
   "metadata": {
    "scrolled": true
   },
   "outputs": [
    {
     "data": {
      "text/html": [
       "<div>\n",
       "<style scoped>\n",
       "    .dataframe tbody tr th:only-of-type {\n",
       "        vertical-align: middle;\n",
       "    }\n",
       "\n",
       "    .dataframe tbody tr th {\n",
       "        vertical-align: top;\n",
       "    }\n",
       "\n",
       "    .dataframe thead th {\n",
       "        text-align: right;\n",
       "    }\n",
       "</style>\n",
       "<table border=\"1\" class=\"dataframe\">\n",
       "  <thead>\n",
       "    <tr style=\"text-align: right;\">\n",
       "      <th></th>\n",
       "      <th>member_id</th>\n",
       "      <th>loan_amnt</th>\n",
       "      <th>funded_amnt</th>\n",
       "      <th>funded_amnt_inv</th>\n",
       "      <th>term</th>\n",
       "      <th>int_rate</th>\n",
       "      <th>installment</th>\n",
       "      <th>grade</th>\n",
       "      <th>sub_grade</th>\n",
       "      <th>emp_title</th>\n",
       "      <th>emp_length</th>\n",
       "      <th>home_ownership</th>\n",
       "      <th>annual_inc</th>\n",
       "      <th>verification_status</th>\n",
       "      <th>issue_d</th>\n",
       "      <th>loan_status</th>\n",
       "      <th>pymnt_plan</th>\n",
       "      <th>url</th>\n",
       "      <th>desc</th>\n",
       "      <th>purpose</th>\n",
       "      <th>title</th>\n",
       "      <th>zip_code</th>\n",
       "      <th>addr_state</th>\n",
       "      <th>dti</th>\n",
       "    </tr>\n",
       "  </thead>\n",
       "  <tbody>\n",
       "    <tr>\n",
       "      <th>0</th>\n",
       "      <td>1296599</td>\n",
       "      <td>5000.0</td>\n",
       "      <td>5000.0</td>\n",
       "      <td>4975.0</td>\n",
       "      <td>36 months</td>\n",
       "      <td>10.65</td>\n",
       "      <td>162.87</td>\n",
       "      <td>B</td>\n",
       "      <td>B2</td>\n",
       "      <td>NaN</td>\n",
       "      <td>10+ years</td>\n",
       "      <td>RENT</td>\n",
       "      <td>24000.0</td>\n",
       "      <td>Verified</td>\n",
       "      <td>Dec-2011</td>\n",
       "      <td>Fully Paid</td>\n",
       "      <td>n</td>\n",
       "      <td>https://www.lendingclub.com/browse/loanDetail....</td>\n",
       "      <td>Borrower added on 12/22/11 &gt; I need to upgra...</td>\n",
       "      <td>credit_card</td>\n",
       "      <td>Computer</td>\n",
       "      <td>860xx</td>\n",
       "      <td>AZ</td>\n",
       "      <td>27.65</td>\n",
       "    </tr>\n",
       "  </tbody>\n",
       "</table>\n",
       "</div>"
      ],
      "text/plain": [
       "   member_id  loan_amnt  funded_amnt  funded_amnt_inv        term  int_rate  \\\n",
       "0    1296599     5000.0       5000.0           4975.0   36 months     10.65   \n",
       "\n",
       "   installment grade sub_grade emp_title emp_length home_ownership  \\\n",
       "0       162.87     B        B2       NaN  10+ years           RENT   \n",
       "\n",
       "   annual_inc verification_status   issue_d loan_status pymnt_plan  \\\n",
       "0     24000.0            Verified  Dec-2011  Fully Paid          n   \n",
       "\n",
       "                                                 url  \\\n",
       "0  https://www.lendingclub.com/browse/loanDetail....   \n",
       "\n",
       "                                                desc      purpose     title  \\\n",
       "0    Borrower added on 12/22/11 > I need to upgra...  credit_card  Computer   \n",
       "\n",
       "  zip_code addr_state    dti  \n",
       "0    860xx         AZ  27.65  "
      ]
     },
     "execution_count": 149,
     "metadata": {},
     "output_type": "execute_result"
    }
   ],
   "source": [
    "df.head(1)"
   ]
  },
  {
   "cell_type": "code",
   "execution_count": 79,
   "metadata": {},
   "outputs": [
    {
     "data": {
      "text/html": [
       "<div>\n",
       "<style scoped>\n",
       "    .dataframe tbody tr th:only-of-type {\n",
       "        vertical-align: middle;\n",
       "    }\n",
       "\n",
       "    .dataframe tbody tr th {\n",
       "        vertical-align: top;\n",
       "    }\n",
       "\n",
       "    .dataframe thead th {\n",
       "        text-align: right;\n",
       "    }\n",
       "</style>\n",
       "<table border=\"1\" class=\"dataframe\">\n",
       "  <thead>\n",
       "    <tr style=\"text-align: right;\">\n",
       "      <th></th>\n",
       "      <th>member_id</th>\n",
       "      <th>loan_amnt</th>\n",
       "      <th>funded_amnt</th>\n",
       "      <th>funded_amnt_inv</th>\n",
       "      <th>int_rate</th>\n",
       "      <th>installment</th>\n",
       "      <th>annual_inc</th>\n",
       "      <th>dti</th>\n",
       "    </tr>\n",
       "  </thead>\n",
       "  <tbody>\n",
       "    <tr>\n",
       "      <th>count</th>\n",
       "      <td>8.873790e+05</td>\n",
       "      <td>887379.000000</td>\n",
       "      <td>8.873790e+05</td>\n",
       "      <td>887379.000000</td>\n",
       "      <td>887379.000000</td>\n",
       "      <td>887379.000000</td>\n",
       "      <td>8.873750e+05</td>\n",
       "      <td>8.873790e+05</td>\n",
       "    </tr>\n",
       "    <tr>\n",
       "      <th>mean</th>\n",
       "      <td>3.500182e+07</td>\n",
       "      <td>15177.429402</td>\n",
       "      <td>1.890163e+04</td>\n",
       "      <td>14702.464383</td>\n",
       "      <td>13.243805</td>\n",
       "      <td>436.717127</td>\n",
       "      <td>8.237809e+04</td>\n",
       "      <td>-8.562732e+03</td>\n",
       "    </tr>\n",
       "    <tr>\n",
       "      <th>std</th>\n",
       "      <td>2.411335e+07</td>\n",
       "      <td>16084.862871</td>\n",
       "      <td>1.115294e+05</td>\n",
       "      <td>8442.106732</td>\n",
       "      <td>4.771725</td>\n",
       "      <td>244.186593</td>\n",
       "      <td>1.488763e+05</td>\n",
       "      <td>1.375036e+05</td>\n",
       "    </tr>\n",
       "    <tr>\n",
       "      <th>min</th>\n",
       "      <td>7.047300e+04</td>\n",
       "      <td>-50000.000000</td>\n",
       "      <td>-2.000000e+05</td>\n",
       "      <td>0.000000</td>\n",
       "      <td>1.000000</td>\n",
       "      <td>15.670000</td>\n",
       "      <td>-5.000000e+04</td>\n",
       "      <td>-2.500000e+06</td>\n",
       "    </tr>\n",
       "    <tr>\n",
       "      <th>25%</th>\n",
       "      <td>1.087713e+07</td>\n",
       "      <td>8000.000000</td>\n",
       "      <td>8.000000e+03</td>\n",
       "      <td>8000.000000</td>\n",
       "      <td>9.990000</td>\n",
       "      <td>260.705000</td>\n",
       "      <td>4.500000e+04</td>\n",
       "      <td>1.169000e+01</td>\n",
       "    </tr>\n",
       "    <tr>\n",
       "      <th>50%</th>\n",
       "      <td>3.709528e+07</td>\n",
       "      <td>13000.000000</td>\n",
       "      <td>1.290000e+04</td>\n",
       "      <td>13000.000000</td>\n",
       "      <td>12.990000</td>\n",
       "      <td>382.550000</td>\n",
       "      <td>6.400000e+04</td>\n",
       "      <td>1.752000e+01</td>\n",
       "    </tr>\n",
       "    <tr>\n",
       "      <th>75%</th>\n",
       "      <td>5.847135e+07</td>\n",
       "      <td>20000.000000</td>\n",
       "      <td>2.000000e+04</td>\n",
       "      <td>20000.000000</td>\n",
       "      <td>16.290000</td>\n",
       "      <td>572.600000</td>\n",
       "      <td>9.000000e+04</td>\n",
       "      <td>2.386000e+01</td>\n",
       "    </tr>\n",
       "    <tr>\n",
       "      <th>max</th>\n",
       "      <td>7.354484e+07</td>\n",
       "      <td>250000.000000</td>\n",
       "      <td>2.500000e+06</td>\n",
       "      <td>35000.000000</td>\n",
       "      <td>28.990000</td>\n",
       "      <td>1445.460000</td>\n",
       "      <td>9.500000e+06</td>\n",
       "      <td>9.999000e+03</td>\n",
       "    </tr>\n",
       "  </tbody>\n",
       "</table>\n",
       "</div>"
      ],
      "text/plain": [
       "          member_id      loan_amnt   funded_amnt  funded_amnt_inv  \\\n",
       "count  8.873790e+05  887379.000000  8.873790e+05    887379.000000   \n",
       "mean   3.500182e+07   15177.429402  1.890163e+04     14702.464383   \n",
       "std    2.411335e+07   16084.862871  1.115294e+05      8442.106732   \n",
       "min    7.047300e+04  -50000.000000 -2.000000e+05         0.000000   \n",
       "25%    1.087713e+07    8000.000000  8.000000e+03      8000.000000   \n",
       "50%    3.709528e+07   13000.000000  1.290000e+04     13000.000000   \n",
       "75%    5.847135e+07   20000.000000  2.000000e+04     20000.000000   \n",
       "max    7.354484e+07  250000.000000  2.500000e+06     35000.000000   \n",
       "\n",
       "            int_rate    installment    annual_inc           dti  \n",
       "count  887379.000000  887379.000000  8.873750e+05  8.873790e+05  \n",
       "mean       13.243805     436.717127  8.237809e+04 -8.562732e+03  \n",
       "std         4.771725     244.186593  1.488763e+05  1.375036e+05  \n",
       "min         1.000000      15.670000 -5.000000e+04 -2.500000e+06  \n",
       "25%         9.990000     260.705000  4.500000e+04  1.169000e+01  \n",
       "50%        12.990000     382.550000  6.400000e+04  1.752000e+01  \n",
       "75%        16.290000     572.600000  9.000000e+04  2.386000e+01  \n",
       "max        28.990000    1445.460000  9.500000e+06  9.999000e+03  "
      ]
     },
     "execution_count": 79,
     "metadata": {},
     "output_type": "execute_result"
    }
   ],
   "source": [
    "df.describe()"
   ]
  },
  {
   "cell_type": "markdown",
   "metadata": {},
   "source": [
    "If we were to refer to the data description above, we can see that there are entries where funded amount, loan amount, annual income and debt-to-ratio are negative amount\n",
    "\n",
    "**Assumption 1: **It is impossible for a funded amount, loan amount, annual income and debt-to-ratio to be negative. I will assume that is a data entry issue and will multipy affected entry by -1"
   ]
  },
  {
   "cell_type": "code",
   "execution_count": 150,
   "metadata": {
    "collapsed": true
   },
   "outputs": [],
   "source": [
    "# multiplying negative funded_amnt, loan_amnt, annual_inc, dti by -1\n",
    "df_clean = (\n",
    "    df\n",
    "    .pipe(lambda x: x.assign(funded_amnt = np.where(x.funded_amnt<0, x.funded_amnt*-1, x.funded_amnt)))\n",
    "    .pipe(lambda x: x.assign(loan_amnt = np.where(x.loan_amnt<0, x.loan_amnt*-1, x.loan_amnt)))\n",
    "    .pipe(lambda x: x.assign(annual_inc = np.where(x.annual_inc<0, x.annual_inc*-1, x.annual_inc)))\n",
    "    .pipe(lambda x: x.assign(dti = np.where(x.dti<0, x.dti*-1, x.dti)))\n",
    "    [[\n",
    "        'member_id', 'loan_amnt', 'funded_amnt', 'funded_amnt_inv', 'int_rate', \n",
    "        'installment', 'grade', 'sub_grade', 'emp_title', 'emp_length',\n",
    "        'home_ownership', 'annual_inc', 'verification_status', 'issue_d',\n",
    "        'loan_status', 'url', 'desc', 'purpose', 'title', 'zip_code',\n",
    "        'addr_state', 'dti', 'term', 'pymnt_plan']]\n",
    ")"
   ]
  },
  {
   "cell_type": "code",
   "execution_count": 81,
   "metadata": {},
   "outputs": [
    {
     "data": {
      "text/plain": [
       "count    8.873790e+05\n",
       "mean     8.598638e+03\n",
       "std      1.375014e+05\n",
       "min      0.000000e+00\n",
       "25%      1.198000e+01\n",
       "50%      1.778000e+01\n",
       "75%      2.420000e+01\n",
       "max      2.500000e+06\n",
       "Name: dti, dtype: float64"
      ]
     },
     "execution_count": 81,
     "metadata": {},
     "output_type": "execute_result"
    }
   ],
   "source": [
    "df_clean.dti.describe()"
   ]
  },
  {
   "cell_type": "markdown",
   "metadata": {},
   "source": [
    "The standard deviation of dti is very large. This could mean that there are outliers in the data. \n",
    "\n",
    "**Assumption 2:** Debt-to-income ratio cannot be more or less than IQR +- 1.5 of itself"
   ]
  },
  {
   "cell_type": "code",
   "execution_count": 151,
   "metadata": {},
   "outputs": [
    {
     "data": {
      "text/plain": [
       "(4991, 24)"
      ]
     },
     "execution_count": 151,
     "metadata": {},
     "output_type": "execute_result"
    }
   ],
   "source": [
    "df_clean.query(\"funded_amnt_inv > loan_amnt or funded_amnt > loan_amnt or funded_amnt_inv > funded_amnt\").shape"
   ]
  },
  {
   "cell_type": "markdown",
   "metadata": {},
   "source": [
    "There exists entries where: \n",
    "\n",
    "1. Funded amount by investors is more than loan amount\n",
    "2. Total funded amount is more than loan amount\n",
    "3. Funded amount by investors is more than total funded amount\n",
    "\n",
    "**Assumption 3:** Total funded amount is capped at loan amount request and funded amount by investor is capped at total funded amount"
   ]
  },
  {
   "cell_type": "code",
   "execution_count": 83,
   "metadata": {},
   "outputs": [
    {
     "name": "stdout",
     "output_type": "stream",
     "text": [
      "erroneous rows: 10073\n",
      "number of rows in raw data: 887379\n"
     ]
    }
   ],
   "source": [
    "# calculating upper and lower limit of dti\n",
    "# dti cannot be less than 0 hence, min(0, value)\n",
    "upper_limit_dti = np.percentile(df_clean.dti, 75) + (stats.iqr(df_clean.dti) * 1.5)\n",
    "lower_limit_dti = min(0, np.percentile(df_clean.dti, 25) - (stats.iqr(df_clean.dti) * 1.5))\n",
    "\n",
    "# checking out how many rows will be removed due to erroneous data\n",
    "erroneous_row_count = (\n",
    "    df_clean\n",
    "    .query(\"funded_amnt_inv > loan_amnt or funded_amnt > loan_amnt or funded_amnt_inv > funded_amnt or dti < {lower} or dti >= {upper}\".format(lower=lower_limit_dti, upper=upper_limit_dti))\n",
    "    .shape[0]\n",
    "    )\n",
    "\n",
    "print(\"erroneous rows: \" + str(erroneous_row_count))\n",
    "print(\"number of rows in raw data: \" + str(df_clean.shape[0]))"
   ]
  },
  {
   "cell_type": "code",
   "execution_count": 84,
   "metadata": {
    "collapsed": true
   },
   "outputs": [],
   "source": [
    "# since assumed erroneous rows is only approx ~1.1% of raw data, I will remove them\n",
    "df_clean = df_clean.query(\"funded_amnt_inv <= loan_amnt and funded_amnt <= loan_amnt and funded_amnt_inv <= funded_amnt and dti >= {lower} and dti <= {upper}\".format(lower=lower_limit_dti, upper=upper_limit_dti))"
   ]
  },
  {
   "cell_type": "code",
   "execution_count": 85,
   "metadata": {},
   "outputs": [
    {
     "data": {
      "text/html": [
       "<div>\n",
       "<style scoped>\n",
       "    .dataframe tbody tr th:only-of-type {\n",
       "        vertical-align: middle;\n",
       "    }\n",
       "\n",
       "    .dataframe tbody tr th {\n",
       "        vertical-align: top;\n",
       "    }\n",
       "\n",
       "    .dataframe thead th {\n",
       "        text-align: right;\n",
       "    }\n",
       "</style>\n",
       "<table border=\"1\" class=\"dataframe\">\n",
       "  <thead>\n",
       "    <tr style=\"text-align: right;\">\n",
       "      <th></th>\n",
       "      <th>member_id</th>\n",
       "      <th>loan_amnt</th>\n",
       "      <th>funded_amnt</th>\n",
       "      <th>funded_amnt_inv</th>\n",
       "      <th>int_rate</th>\n",
       "      <th>installment</th>\n",
       "      <th>annual_inc</th>\n",
       "      <th>dti</th>\n",
       "    </tr>\n",
       "  </thead>\n",
       "  <tbody>\n",
       "    <tr>\n",
       "      <th>count</th>\n",
       "      <td>8.773060e+05</td>\n",
       "      <td>877306.000000</td>\n",
       "      <td>877306.000000</td>\n",
       "      <td>877306.000000</td>\n",
       "      <td>877306.000000</td>\n",
       "      <td>877306.000000</td>\n",
       "      <td>8.773020e+05</td>\n",
       "      <td>877306.000000</td>\n",
       "    </tr>\n",
       "    <tr>\n",
       "      <th>mean</th>\n",
       "      <td>3.499747e+07</td>\n",
       "      <td>14753.444864</td>\n",
       "      <td>14740.069514</td>\n",
       "      <td>14700.564455</td>\n",
       "      <td>13.242085</td>\n",
       "      <td>436.652712</td>\n",
       "      <td>7.503542e+04</td>\n",
       "      <td>18.129166</td>\n",
       "    </tr>\n",
       "    <tr>\n",
       "      <th>std</th>\n",
       "      <td>2.411417e+07</td>\n",
       "      <td>8433.803422</td>\n",
       "      <td>8428.333243</td>\n",
       "      <td>8440.571437</td>\n",
       "      <td>4.771488</td>\n",
       "      <td>244.142474</td>\n",
       "      <td>6.485735e+04</td>\n",
       "      <td>8.299734</td>\n",
       "    </tr>\n",
       "    <tr>\n",
       "      <th>min</th>\n",
       "      <td>7.047300e+04</td>\n",
       "      <td>500.000000</td>\n",
       "      <td>500.000000</td>\n",
       "      <td>0.000000</td>\n",
       "      <td>1.000000</td>\n",
       "      <td>15.670000</td>\n",
       "      <td>1.896000e+03</td>\n",
       "      <td>0.000000</td>\n",
       "    </tr>\n",
       "    <tr>\n",
       "      <th>25%</th>\n",
       "      <td>1.086953e+07</td>\n",
       "      <td>8000.000000</td>\n",
       "      <td>8000.000000</td>\n",
       "      <td>8000.000000</td>\n",
       "      <td>9.990000</td>\n",
       "      <td>260.730000</td>\n",
       "      <td>4.500000e+04</td>\n",
       "      <td>11.910000</td>\n",
       "    </tr>\n",
       "    <tr>\n",
       "      <th>50%</th>\n",
       "      <td>3.708661e+07</td>\n",
       "      <td>13000.000000</td>\n",
       "      <td>13000.000000</td>\n",
       "      <td>13000.000000</td>\n",
       "      <td>12.990000</td>\n",
       "      <td>382.550000</td>\n",
       "      <td>6.500000e+04</td>\n",
       "      <td>17.650000</td>\n",
       "    </tr>\n",
       "    <tr>\n",
       "      <th>75%</th>\n",
       "      <td>5.847134e+07</td>\n",
       "      <td>20000.000000</td>\n",
       "      <td>20000.000000</td>\n",
       "      <td>20000.000000</td>\n",
       "      <td>16.290000</td>\n",
       "      <td>572.300000</td>\n",
       "      <td>9.000000e+04</td>\n",
       "      <td>23.950000</td>\n",
       "    </tr>\n",
       "    <tr>\n",
       "      <th>max</th>\n",
       "      <td>7.354484e+07</td>\n",
       "      <td>35000.000000</td>\n",
       "      <td>35000.000000</td>\n",
       "      <td>35000.000000</td>\n",
       "      <td>28.990000</td>\n",
       "      <td>1445.460000</td>\n",
       "      <td>9.500000e+06</td>\n",
       "      <td>42.370000</td>\n",
       "    </tr>\n",
       "  </tbody>\n",
       "</table>\n",
       "</div>"
      ],
      "text/plain": [
       "          member_id      loan_amnt    funded_amnt  funded_amnt_inv  \\\n",
       "count  8.773060e+05  877306.000000  877306.000000    877306.000000   \n",
       "mean   3.499747e+07   14753.444864   14740.069514     14700.564455   \n",
       "std    2.411417e+07    8433.803422    8428.333243      8440.571437   \n",
       "min    7.047300e+04     500.000000     500.000000         0.000000   \n",
       "25%    1.086953e+07    8000.000000    8000.000000      8000.000000   \n",
       "50%    3.708661e+07   13000.000000   13000.000000     13000.000000   \n",
       "75%    5.847134e+07   20000.000000   20000.000000     20000.000000   \n",
       "max    7.354484e+07   35000.000000   35000.000000     35000.000000   \n",
       "\n",
       "            int_rate    installment    annual_inc            dti  \n",
       "count  877306.000000  877306.000000  8.773020e+05  877306.000000  \n",
       "mean       13.242085     436.652712  7.503542e+04      18.129166  \n",
       "std         4.771488     244.142474  6.485735e+04       8.299734  \n",
       "min         1.000000      15.670000  1.896000e+03       0.000000  \n",
       "25%         9.990000     260.730000  4.500000e+04      11.910000  \n",
       "50%        12.990000     382.550000  6.500000e+04      17.650000  \n",
       "75%        16.290000     572.300000  9.000000e+04      23.950000  \n",
       "max        28.990000    1445.460000  9.500000e+06      42.370000  "
      ]
     },
     "execution_count": 85,
     "metadata": {},
     "output_type": "execute_result"
    }
   ],
   "source": [
    "df_clean.describe()"
   ]
  },
  {
   "cell_type": "code",
   "execution_count": 86,
   "metadata": {},
   "outputs": [
    {
     "name": "stdout",
     "output_type": "stream",
     "text": [
      "<class 'pandas.core.frame.DataFrame'>\n",
      "Int64Index: 877306 entries, 0 to 887378\n",
      "Data columns (total 24 columns):\n",
      "member_id              877306 non-null int64\n",
      "loan_amnt              877306 non-null float64\n",
      "funded_amnt            877306 non-null float64\n",
      "funded_amnt_inv        877306 non-null float64\n",
      "int_rate               877306 non-null float64\n",
      "installment            877306 non-null float64\n",
      "grade                  877306 non-null object\n",
      "sub_grade              877306 non-null object\n",
      "emp_title              826424 non-null object\n",
      "emp_length             832990 non-null object\n",
      "home_ownership         877306 non-null object\n",
      "annual_inc             877302 non-null float64\n",
      "verification_status    877306 non-null object\n",
      "issue_d                877306 non-null object\n",
      "loan_status            877306 non-null object\n",
      "url                    877306 non-null object\n",
      "desc                   124657 non-null object\n",
      "purpose                877306 non-null object\n",
      "title                  877157 non-null object\n",
      "zip_code               877306 non-null object\n",
      "addr_state             877306 non-null object\n",
      "dti                    877306 non-null float64\n",
      "term                   877306 non-null object\n",
      "pymnt_plan             877306 non-null object\n",
      "dtypes: float64(7), int64(1), object(16)\n",
      "memory usage: 167.3+ MB\n"
     ]
    }
   ],
   "source": [
    "df_clean.info()"
   ]
  },
  {
   "cell_type": "code",
   "execution_count": 87,
   "metadata": {},
   "outputs": [
    {
     "data": {
      "text/html": [
       "<div>\n",
       "<style scoped>\n",
       "    .dataframe tbody tr th:only-of-type {\n",
       "        vertical-align: middle;\n",
       "    }\n",
       "\n",
       "    .dataframe tbody tr th {\n",
       "        vertical-align: top;\n",
       "    }\n",
       "\n",
       "    .dataframe thead th {\n",
       "        text-align: right;\n",
       "    }\n",
       "</style>\n",
       "<table border=\"1\" class=\"dataframe\">\n",
       "  <thead>\n",
       "    <tr style=\"text-align: right;\">\n",
       "      <th></th>\n",
       "      <th>member_id</th>\n",
       "      <th>loan_amnt</th>\n",
       "      <th>funded_amnt</th>\n",
       "      <th>funded_amnt_inv</th>\n",
       "      <th>int_rate</th>\n",
       "      <th>installment</th>\n",
       "      <th>grade</th>\n",
       "      <th>sub_grade</th>\n",
       "      <th>emp_title</th>\n",
       "      <th>emp_length</th>\n",
       "      <th>home_ownership</th>\n",
       "      <th>annual_inc</th>\n",
       "      <th>verification_status</th>\n",
       "      <th>issue_d</th>\n",
       "      <th>loan_status</th>\n",
       "      <th>url</th>\n",
       "      <th>desc</th>\n",
       "      <th>purpose</th>\n",
       "      <th>title</th>\n",
       "      <th>zip_code</th>\n",
       "      <th>addr_state</th>\n",
       "      <th>dti</th>\n",
       "      <th>term</th>\n",
       "      <th>pymnt_plan</th>\n",
       "    </tr>\n",
       "  </thead>\n",
       "  <tbody>\n",
       "    <tr>\n",
       "      <th>42449</th>\n",
       "      <td>79912</td>\n",
       "      <td>5000.0</td>\n",
       "      <td>5000.0</td>\n",
       "      <td>3025.0</td>\n",
       "      <td>7.43</td>\n",
       "      <td>155.38</td>\n",
       "      <td>A</td>\n",
       "      <td>A2</td>\n",
       "      <td>NaN</td>\n",
       "      <td>&lt; 1 year</td>\n",
       "      <td>NONE</td>\n",
       "      <td>NaN</td>\n",
       "      <td>Not Verified</td>\n",
       "      <td>Aug-2007</td>\n",
       "      <td>Does not meet the credit policy. Status:Fully ...</td>\n",
       "      <td>https://www.lendingclub.com/browse/loanDetail....</td>\n",
       "      <td>I will be relocating to Boston next month and ...</td>\n",
       "      <td>other</td>\n",
       "      <td>Moving expenses</td>\n",
       "      <td>100xx</td>\n",
       "      <td>NY</td>\n",
       "      <td>1.0</td>\n",
       "      <td>36 months</td>\n",
       "      <td>n</td>\n",
       "    </tr>\n",
       "    <tr>\n",
       "      <th>42450</th>\n",
       "      <td>79906</td>\n",
       "      <td>7000.0</td>\n",
       "      <td>7000.0</td>\n",
       "      <td>3450.0</td>\n",
       "      <td>7.75</td>\n",
       "      <td>218.55</td>\n",
       "      <td>A</td>\n",
       "      <td>A3</td>\n",
       "      <td>NaN</td>\n",
       "      <td>&lt; 1 year</td>\n",
       "      <td>NONE</td>\n",
       "      <td>NaN</td>\n",
       "      <td>Not Verified</td>\n",
       "      <td>Aug-2007</td>\n",
       "      <td>Does not meet the credit policy. Status:Fully ...</td>\n",
       "      <td>https://www.lendingclub.com/browse/loanDetail....</td>\n",
       "      <td>I am borrowing $7,000 for tuition and other ex...</td>\n",
       "      <td>other</td>\n",
       "      <td>Education</td>\n",
       "      <td>100xx</td>\n",
       "      <td>NY</td>\n",
       "      <td>1.0</td>\n",
       "      <td>36 months</td>\n",
       "      <td>n</td>\n",
       "    </tr>\n",
       "    <tr>\n",
       "      <th>42480</th>\n",
       "      <td>79878</td>\n",
       "      <td>6700.0</td>\n",
       "      <td>6700.0</td>\n",
       "      <td>6700.0</td>\n",
       "      <td>7.75</td>\n",
       "      <td>209.18</td>\n",
       "      <td>A</td>\n",
       "      <td>A3</td>\n",
       "      <td>NaN</td>\n",
       "      <td>&lt; 1 year</td>\n",
       "      <td>NONE</td>\n",
       "      <td>NaN</td>\n",
       "      <td>Not Verified</td>\n",
       "      <td>Jul-2007</td>\n",
       "      <td>Does not meet the credit policy. Status:Fully ...</td>\n",
       "      <td>https://www.lendingclub.com/browse/loanDetail....</td>\n",
       "      <td>I am moving to Florida and would like to borro...</td>\n",
       "      <td>other</td>\n",
       "      <td>Moving expenses and security deposit</td>\n",
       "      <td>100xx</td>\n",
       "      <td>NY</td>\n",
       "      <td>1.0</td>\n",
       "      <td>36 months</td>\n",
       "      <td>n</td>\n",
       "    </tr>\n",
       "    <tr>\n",
       "      <th>42533</th>\n",
       "      <td>70735</td>\n",
       "      <td>6500.0</td>\n",
       "      <td>6500.0</td>\n",
       "      <td>0.0</td>\n",
       "      <td>8.38</td>\n",
       "      <td>204.84</td>\n",
       "      <td>A</td>\n",
       "      <td>A5</td>\n",
       "      <td>NaN</td>\n",
       "      <td>&lt; 1 year</td>\n",
       "      <td>NONE</td>\n",
       "      <td>NaN</td>\n",
       "      <td>Not Verified</td>\n",
       "      <td>Jun-2007</td>\n",
       "      <td>Does not meet the credit policy. Status:Fully ...</td>\n",
       "      <td>https://www.lendingclub.com/browse/loanDetail....</td>\n",
       "      <td>Hi,   I'm buying  a used car. Anybody on faceb...</td>\n",
       "      <td>other</td>\n",
       "      <td>Buying a car</td>\n",
       "      <td>100xx</td>\n",
       "      <td>NY</td>\n",
       "      <td>4.0</td>\n",
       "      <td>36 months</td>\n",
       "      <td>n</td>\n",
       "    </tr>\n",
       "  </tbody>\n",
       "</table>\n",
       "</div>"
      ],
      "text/plain": [
       "       member_id  loan_amnt  funded_amnt  funded_amnt_inv  int_rate  \\\n",
       "42449      79912     5000.0       5000.0           3025.0      7.43   \n",
       "42450      79906     7000.0       7000.0           3450.0      7.75   \n",
       "42480      79878     6700.0       6700.0           6700.0      7.75   \n",
       "42533      70735     6500.0       6500.0              0.0      8.38   \n",
       "\n",
       "       installment grade sub_grade emp_title emp_length home_ownership  \\\n",
       "42449       155.38     A        A2       NaN   < 1 year           NONE   \n",
       "42450       218.55     A        A3       NaN   < 1 year           NONE   \n",
       "42480       209.18     A        A3       NaN   < 1 year           NONE   \n",
       "42533       204.84     A        A5       NaN   < 1 year           NONE   \n",
       "\n",
       "       annual_inc verification_status   issue_d  \\\n",
       "42449         NaN        Not Verified  Aug-2007   \n",
       "42450         NaN        Not Verified  Aug-2007   \n",
       "42480         NaN        Not Verified  Jul-2007   \n",
       "42533         NaN        Not Verified  Jun-2007   \n",
       "\n",
       "                                             loan_status  \\\n",
       "42449  Does not meet the credit policy. Status:Fully ...   \n",
       "42450  Does not meet the credit policy. Status:Fully ...   \n",
       "42480  Does not meet the credit policy. Status:Fully ...   \n",
       "42533  Does not meet the credit policy. Status:Fully ...   \n",
       "\n",
       "                                                     url  \\\n",
       "42449  https://www.lendingclub.com/browse/loanDetail....   \n",
       "42450  https://www.lendingclub.com/browse/loanDetail....   \n",
       "42480  https://www.lendingclub.com/browse/loanDetail....   \n",
       "42533  https://www.lendingclub.com/browse/loanDetail....   \n",
       "\n",
       "                                                    desc purpose  \\\n",
       "42449  I will be relocating to Boston next month and ...   other   \n",
       "42450  I am borrowing $7,000 for tuition and other ex...   other   \n",
       "42480  I am moving to Florida and would like to borro...   other   \n",
       "42533  Hi,   I'm buying  a used car. Anybody on faceb...   other   \n",
       "\n",
       "                                      title zip_code addr_state  dti  \\\n",
       "42449                       Moving expenses    100xx         NY  1.0   \n",
       "42450                             Education    100xx         NY  1.0   \n",
       "42480  Moving expenses and security deposit    100xx         NY  1.0   \n",
       "42533                          Buying a car    100xx         NY  4.0   \n",
       "\n",
       "             term pymnt_plan  \n",
       "42449   36 months          n  \n",
       "42450   36 months          n  \n",
       "42480   36 months          n  \n",
       "42533   36 months          n  "
      ]
     },
     "execution_count": 87,
     "metadata": {},
     "output_type": "execute_result"
    }
   ],
   "source": [
    "df_clean.query(\"annual_inc != annual_inc\")"
   ]
  },
  {
   "cell_type": "markdown",
   "metadata": {},
   "source": [
    "There are missing values in annual_inc and they are all categorised under grade A.\n",
    "\n",
    "I will impute the null values with the median income of loans that are classified under grade A."
   ]
  },
  {
   "cell_type": "code",
   "execution_count": 88,
   "metadata": {
    "scrolled": true
   },
   "outputs": [
    {
     "name": "stdout",
     "output_type": "stream",
     "text": [
      "annual_inc    75000.0\n",
      "dtype: float64\n"
     ]
    }
   ],
   "source": [
    "median = df_clean.query(\"grade == 'A'\")[['annual_inc']].median()\n",
    "print (median)"
   ]
  },
  {
   "cell_type": "code",
   "execution_count": 89,
   "metadata": {
    "collapsed": true
   },
   "outputs": [],
   "source": [
    "df_clean['annual_inc'].fillna(75000.0, inplace=True)\n",
    "\n",
    "# replacing other null values as 'blank'\n",
    "df_clean.fillna('blank', inplace=True)"
   ]
  },
  {
   "cell_type": "markdown",
   "metadata": {},
   "source": [
    "# Data Transformation"
   ]
  },
  {
   "cell_type": "markdown",
   "metadata": {},
   "source": [
    "Since we are interested in analysing borrowers who are willing to make good on their loans, I will remove entries where loan_status = 'Issued' because it does not inform us whether the borrower will make good on his/her loan.\n",
    "\n",
    "I will classified all loan_status that are \"Fully Paid\" or \"Current\" as borrowers who are willing to make payment, i.e. good loans and the rest as borrowers who are unable/unwilling to make payment, i.e. bad loans borrowers. "
   ]
  },
  {
   "cell_type": "code",
   "execution_count": 90,
   "metadata": {
    "collapsed": true
   },
   "outputs": [],
   "source": [
    "# removing loan status \"Issued\" because it cannot be determine whether borrowers willing to make payment\n",
    "# obtaining year where loan was issued\n",
    "# replace blank space with _ for each cell\n",
    "# good loans = 1 and bad loans = 0 under a new column 'target'\n",
    "df_transform = (\n",
    "    df_clean\n",
    "    .query(\"loan_status != 'Issued'\")\n",
    "    .pipe(lambda x: x.assign(year = pd.to_datetime(x.issue_d).dt.year))\n",
    "    .pipe(lambda x: x.assign(verification_status = x.verification_status.str.replace(' ','_')))\n",
    "    .pipe(lambda x: x.assign(term = x.term.str.replace(' ','_'))).pipe(lambda x: x.assign(\n",
    "            target = np.where(x.loan_status == 'Fully Paid',1,\n",
    "                              np.where(x.loan_status == 'Current',1,\n",
    "                                       np.where(x.loan_status == 'Does not meet the credit policy. Status:Fully Paid',1,0)))))\n",
    "    )"
   ]
  },
  {
   "cell_type": "code",
   "execution_count": 91,
   "metadata": {},
   "outputs": [
    {
     "data": {
      "image/png": "[encoded data removed]",
      "text/plain": [
       "<matplotlib.figure.Figure at 0x1ccc2ef908>"
      ]
     },
     "metadata": {},
     "output_type": "display_data"
    }
   ],
   "source": [
    "# plotting a correlation heatmap between continuous features\n",
    "cont_feature_df = df_transform[['loan_amnt', 'int_rate', 'funded_amnt', 'funded_amnt_inv', 'installment', 'annual_inc', 'dti']]\n",
    "\n",
    "_ = plt.subplots(figsize = (12,7))\n",
    "\n",
    "corr = cont_feature_df.corr()\n",
    "\n",
    "mask = np.zeros_like(corr, dtype=np.bool)\n",
    "mask[np.triu_indices_from(mask)] = True\n",
    "\n",
    "cmap = sns.diverging_palette(600, 20, as_cmap=True)\n",
    "\n",
    "_ = sns.heatmap(corr, mask=mask, annot=True, cmap =cmap)"
   ]
  },
  {
   "cell_type": "markdown",
   "metadata": {},
   "source": [
    "Since loan amount is perfectly correlated to funded amount, funded amount by investors and highly correlated to installment, I would be removing funded_amnt, funded_amnt_inv and installment from my analysis as they are adequately represened by loan_amnt"
   ]
  },
  {
   "cell_type": "code",
   "execution_count": 92,
   "metadata": {},
   "outputs": [
    {
     "data": {
      "image/png": "[encoded data removed]",
      "text/plain": [
       "<matplotlib.figure.Figure at 0x1cd03e6b38>"
      ]
     },
     "metadata": {},
     "output_type": "display_data"
    }
   ],
   "source": [
    "# plotting frequency distribution graphs of continuous features, group by good loan and bad loans\n",
    "_ = plt.figure(figsize=(20,10))\n",
    "ax1 = plt.subplot(221)\n",
    "_ = sns.distplot(df_transform.query(\"target == 1\").loan_amnt, ax=ax1, label='good loans')\n",
    "_ = sns.distplot(df_transform.query(\"target == 0\").loan_amnt, ax=ax1, label='bad loans')\n",
    "_ = plt.title(\"Frequency distribution of loan amount\")\n",
    "_ = ax1.legend()\n",
    "\n",
    "ax2 = plt.subplot(222)\n",
    "_ = sns.distplot(df_transform.query(\"target == 1\").int_rate, ax=ax2, label='good loans')\n",
    "_ = sns.distplot(df_transform.query(\"target == 0\").int_rate, ax=ax2, label='bad loans')\n",
    "_ = plt.title(\"Frequency distribution of interest rate\")\n",
    "_ = ax2.legend()\n",
    "\n",
    "ax3 = plt.subplot(223)\n",
    "_ = sns.distplot(np.log(df_transform.query(\"target == 1\").annual_inc), ax=ax3, label='good loans')\n",
    "_ = sns.distplot(np.log(df_transform.query(\"target == 0\").annual_inc), ax=ax3, label='bad loans')\n",
    "_ = plt.title(\"Frequency distribution of annual income\")\n",
    "_ = ax3.legend()\n",
    "\n",
    "ax4 = plt.subplot(224)\n",
    "_ = sns.distplot(df_transform.query(\"target == 1\").dti, ax=ax4, label='good loans')\n",
    "_ = sns.distplot(df_transform.query(\"target == 0\").dti, ax=ax4, label='bad loans')\n",
    "_ = plt.title(\"Frequency distribution of dti\")\n",
    "_ = ax4.legend()\n",
    "\n",
    "plt.subplots_adjust(top=0.92, bottom=0.08, left=0.10, right=0.95, hspace=0.25, wspace=0.35)"
   ]
  },
  {
   "cell_type": "markdown",
   "metadata": {},
   "source": [
    "From the frequency distribution charts above, we can see that **interest rate**, **annual income** and **debt-to-income ratio**  have some form of relationship with loan status"
   ]
  },
  {
   "cell_type": "code",
   "execution_count": 93,
   "metadata": {},
   "outputs": [
    {
     "data": {
      "text/html": [
       "<div>\n",
       "<style scoped>\n",
       "    .dataframe tbody tr th:only-of-type {\n",
       "        vertical-align: middle;\n",
       "    }\n",
       "\n",
       "    .dataframe tbody tr th {\n",
       "        vertical-align: top;\n",
       "    }\n",
       "\n",
       "    .dataframe thead th {\n",
       "        text-align: right;\n",
       "    }\n",
       "</style>\n",
       "<table border=\"1\" class=\"dataframe\">\n",
       "  <thead>\n",
       "    <tr style=\"text-align: right;\">\n",
       "      <th></th>\n",
       "      <th>features</th>\n",
       "      <th>VIF Factor</th>\n",
       "    </tr>\n",
       "  </thead>\n",
       "  <tbody>\n",
       "    <tr>\n",
       "      <th>0</th>\n",
       "      <td>loan_amnt</td>\n",
       "      <td>4.447659</td>\n",
       "    </tr>\n",
       "    <tr>\n",
       "      <th>1</th>\n",
       "      <td>int_rate</td>\n",
       "      <td>5.526292</td>\n",
       "    </tr>\n",
       "    <tr>\n",
       "      <th>2</th>\n",
       "      <td>annual_inc</td>\n",
       "      <td>2.485083</td>\n",
       "    </tr>\n",
       "    <tr>\n",
       "      <th>3</th>\n",
       "      <td>dti</td>\n",
       "      <td>4.526477</td>\n",
       "    </tr>\n",
       "  </tbody>\n",
       "</table>\n",
       "</div>"
      ],
      "text/plain": [
       "     features  VIF Factor\n",
       "0   loan_amnt    4.447659\n",
       "1    int_rate    5.526292\n",
       "2  annual_inc    2.485083\n",
       "3         dti    4.526477"
      ]
     },
     "execution_count": 93,
     "metadata": {},
     "output_type": "execute_result"
    }
   ],
   "source": [
    "cont_feature_df = df_transform[['loan_amnt', 'int_rate', 'annual_inc', 'dti']]\n",
    "\n",
    "# checking for multi-collinearity amongst continuous features\n",
    "vif = pd.DataFrame()\n",
    "vif[\"VIF Factor\"] = [variance_inflation_factor(cont_feature_df.values, i) for i in range(cont_feature_df.shape[1])]\n",
    "vif[\"features\"] = cont_feature_df.columns\n",
    "vif[['features','VIF Factor']]"
   ]
  },
  {
   "cell_type": "markdown",
   "metadata": {},
   "source": [
    "We can see that the VIF factor of the selected continuous features is less than 10, meaning to say that the multi-collinearity relationship amongst them is low"
   ]
  },
  {
   "cell_type": "code",
   "execution_count": 94,
   "metadata": {
    "collapsed": true
   },
   "outputs": [],
   "source": [
    "def perf_loans_cat_features(df, column):\n",
    "    \"\"\"\n",
    "    creating dataframe that display the proportion of good/bad loans of each category\n",
    "    \"\"\"\n",
    "    dictionary = {}\n",
    "    for i in df[column].unique():\n",
    "        dictionary[i] = round(len(df.query(\"{}=='{}' and target==1\".format(column,i)))/len(df.query(\"{}=='{}'\".format(column,i))) * 100,1)\n",
    "    column_df = (\n",
    "        pd.DataFrame(list(dictionary.items()), columns=[column, 'pctg_good_loans'])\n",
    "        .pipe(lambda x: x.assign(total=100))\n",
    "        .pipe(lambda x: x.assign(pctg_bad_loans=x.total-x.pctg_good_loans))\n",
    "        .sort_values(column)\n",
    "        .reset_index()\n",
    "        [[column, 'pctg_good_loans', 'pctg_bad_loans', 'total']]\n",
    "    )\n",
    "    \n",
    "    return column_df"
   ]
  },
  {
   "cell_type": "code",
   "execution_count": 95,
   "metadata": {},
   "outputs": [],
   "source": [
    "grades_df = perf_loans_cat_features(df_transform, 'grade')\n",
    "sub_grades_df = perf_loans_cat_features(df_transform, 'sub_grade')\n",
    "emp_length_df = perf_loans_cat_features(df_transform, 'emp_length')\n",
    "home_ownership_df = perf_loans_cat_features(df_transform, 'home_ownership')\n",
    "verification_status_df = perf_loans_cat_features(df_transform, 'verification_status')\n",
    "term_df = perf_loans_cat_features(df_transform, 'term')\n",
    "payment_plan_df = perf_loans_cat_features(df_transform, 'pymnt_plan')\n",
    "purpose_df = perf_loans_cat_features(df_transform, 'purpose')\n",
    "state_df = perf_loans_cat_features(df_transform, 'addr_state')\n",
    "year_df = perf_loans_cat_features(df_transform, 'year')"
   ]
  },
  {
   "cell_type": "code",
   "execution_count": 96,
   "metadata": {},
   "outputs": [
    {
     "data": {
      "text/html": [
       "<div>\n",
       "<style scoped>\n",
       "    .dataframe tbody tr th:only-of-type {\n",
       "        vertical-align: middle;\n",
       "    }\n",
       "\n",
       "    .dataframe tbody tr th {\n",
       "        vertical-align: top;\n",
       "    }\n",
       "\n",
       "    .dataframe thead th {\n",
       "        text-align: right;\n",
       "    }\n",
       "</style>\n",
       "<table border=\"1\" class=\"dataframe\">\n",
       "  <thead>\n",
       "    <tr style=\"text-align: right;\">\n",
       "      <th></th>\n",
       "      <th>grade</th>\n",
       "      <th>pctg_good_loans</th>\n",
       "      <th>pctg_bad_loans</th>\n",
       "      <th>total</th>\n",
       "    </tr>\n",
       "  </thead>\n",
       "  <tbody>\n",
       "    <tr>\n",
       "      <th>0</th>\n",
       "      <td>A</td>\n",
       "      <td>97.5</td>\n",
       "      <td>2.5</td>\n",
       "      <td>100</td>\n",
       "    </tr>\n",
       "    <tr>\n",
       "      <th>1</th>\n",
       "      <td>B</td>\n",
       "      <td>94.7</td>\n",
       "      <td>5.3</td>\n",
       "      <td>100</td>\n",
       "    </tr>\n",
       "    <tr>\n",
       "      <th>2</th>\n",
       "      <td>C</td>\n",
       "      <td>92.2</td>\n",
       "      <td>7.8</td>\n",
       "      <td>100</td>\n",
       "    </tr>\n",
       "    <tr>\n",
       "      <th>3</th>\n",
       "      <td>D</td>\n",
       "      <td>88.5</td>\n",
       "      <td>11.5</td>\n",
       "      <td>100</td>\n",
       "    </tr>\n",
       "    <tr>\n",
       "      <th>4</th>\n",
       "      <td>E</td>\n",
       "      <td>86.1</td>\n",
       "      <td>13.9</td>\n",
       "      <td>100</td>\n",
       "    </tr>\n",
       "    <tr>\n",
       "      <th>5</th>\n",
       "      <td>F</td>\n",
       "      <td>80.8</td>\n",
       "      <td>19.2</td>\n",
       "      <td>100</td>\n",
       "    </tr>\n",
       "    <tr>\n",
       "      <th>6</th>\n",
       "      <td>G</td>\n",
       "      <td>76.7</td>\n",
       "      <td>23.3</td>\n",
       "      <td>100</td>\n",
       "    </tr>\n",
       "  </tbody>\n",
       "</table>\n",
       "</div>"
      ],
      "text/plain": [
       "  grade  pctg_good_loans  pctg_bad_loans  total\n",
       "0     A             97.5             2.5    100\n",
       "1     B             94.7             5.3    100\n",
       "2     C             92.2             7.8    100\n",
       "3     D             88.5            11.5    100\n",
       "4     E             86.1            13.9    100\n",
       "5     F             80.8            19.2    100\n",
       "6     G             76.7            23.3    100"
      ]
     },
     "execution_count": 96,
     "metadata": {},
     "output_type": "execute_result"
    }
   ],
   "source": [
    "# example of the output of perf_loans_cat_features function\n",
    "grades_df"
   ]
  },
  {
   "cell_type": "code",
   "execution_count": 97,
   "metadata": {
    "collapsed": true
   },
   "outputs": [],
   "source": [
    "cat_feature_df = [grades_df, sub_grades_df, emp_length_df, home_ownership_df, verification_status_df, term_df, payment_plan_df, purpose_df, year_df]\n",
    "cat_feature_list = ['grade', 'sub_grade', 'emp_length', 'home_ownership', 'verification_status', 'term', 'pymnt_plan', 'purpose', 'year']"
   ]
  },
  {
   "cell_type": "code",
   "execution_count": 98,
   "metadata": {
    "scrolled": false
   },
   "outputs": [
    {
     "data": {
      "image/png": "[encoded data removed]",
      "text/plain": [
       "<matplotlib.figure.Figure at 0x1cc41c3940>"
      ]
     },
     "metadata": {},
     "output_type": "display_data"
    }
   ],
   "source": [
    "# plotting a percentage stacked bar chart of all the categorical features to visualise the proportion of bad loans and good loans\n",
    "_ = plt.figure(figsize=(20,10))\n",
    "start = 331\n",
    "for idx, (df, col )in enumerate(zip(cat_feature_df, cat_feature_list)):\n",
    "    _ = plt.subplot(start + idx)\n",
    "    overall_plot = sns.barplot(x = df[col], y = df.total, color = \"red\", label='bad loans')\n",
    "    bottom_plot = sns.barplot(x = df[col], y = df.pctg_good_loans, color = \"green\", label='good loans')\n",
    "    _ = plt.title('Breakdown of loan status by ' + col)\n",
    "    _ = plt.legend(loc=4, ncol = 1)\n",
    "    _ = plt.ylabel('percentage')\n",
    "    _ = plt.xticks(rotation=75, fontsize='10')\n",
    "    \n",
    "plt.subplots_adjust(top=0.92, bottom=0.08, left=0.10, right=0.95, hspace=1, wspace=0.35)"
   ]
  },
  {
   "cell_type": "markdown",
   "metadata": {},
   "source": [
    "From the percentage stacked bar charts above, we can see that **all of the categorical features** other than **employment length** and **verification status** have a certain relation to the status of the loan.\n",
    "\n",
    "Although we can see that the percentage of bad loans is decreasing over the years, I will not be conducting a time series analysis.\n",
    "The reason why the percentage of bad loans are decreasing over the years is probably due to the fact that the global economy is steadily recovering from the 07/08 financial crisis. From this, we can see that the state of global economy has a part to play in determining whether a loan will be defaulted. If time permits, I might include leading economic indicator(s) in my analysis. "
   ]
  },
  {
   "cell_type": "code",
   "execution_count": 99,
   "metadata": {
    "scrolled": false
   },
   "outputs": [
    {
     "data": {
      "application/vnd.plotly.v1+json": {
       "data": [
        {
         "autocolorscale": false,
         "colorbar": {
          "title": "Percentage"
         },
         "colorscale": [
          [
           0,
           "rgb(202, 202, 202)"
          ],
          [
           0.2,
           "rgb(253, 205, 200)"
          ],
          [
           0.4,
           "rgb(252, 169, 161)"
          ],
          [
           0.6,
           "rgb(247, 121, 108  )"
          ],
          [
           0.8,
           "rgb(232, 70, 54)"
          ],
          [
           1,
           "rgb(212, 31, 13)"
          ]
         ],
         "locationmode": "USA-states",
         "locations": [
          "AK",
          "AL",
          "AR",
          "AZ",
          "CA",
          "CO",
          "CT",
          "DC",
          "DE",
          "FL",
          "GA",
          "HI",
          "IA",
          "ID",
          "IL",
          "IN",
          "KS",
          "KY",
          "LA",
          "MA",
          "MD",
          "ME",
          "MI",
          "MN",
          "MO",
          "MS",
          "MT",
          "NC",
          "ND",
          "NE",
          "NH",
          "NJ",
          "NM",
          "NV",
          "NY",
          "OH",
          "OK",
          "OR",
          "PA",
          "RI",
          "SC",
          "SD",
          "TN",
          "TX",
          "UT",
          "VA",
          "VT",
          "WA",
          "WI",
          "WV",
          "WY"
         ],
         "marker": {
          "line": {
           "color": "rgb(255,255,255)",
           "width": 2
          }
         },
         "text": [
          "AK<br>Percentage of bad loans: 6.9",
          "AL<br>Percentage of bad loans: 9.0",
          "AR<br>Percentage of bad loans: 7.8",
          "AZ<br>Percentage of bad loans: 7.8",
          "CA<br>Percentage of bad loans: 8.2",
          "CO<br>Percentage of bad loans: 6.4",
          "CT<br>Percentage of bad loans: 6.9",
          "DC<br>Percentage of bad loans: 4.8",
          "DE<br>Percentage of bad loans: 7.6",
          "FL<br>Percentage of bad loans: 8.5",
          "GA<br>Percentage of bad loans: 7.2",
          "HI<br>Percentage of bad loans: 9.5",
          "IA<br>Percentage of bad loans: 23.1",
          "ID<br>Percentage of bad loans: 9.1",
          "IL<br>Percentage of bad loans: 6.4",
          "IN<br>Percentage of bad loans: 7.1",
          "KS<br>Percentage of bad loans: 6.3",
          "KY<br>Percentage of bad loans: 7.1",
          "LA<br>Percentage of bad loans: 8.2",
          "MA<br>Percentage of bad loans: 7.4",
          "MD<br>Percentage of bad loans: 8.1",
          "ME<br>Percentage of bad loans: 0.2",
          "MI<br>Percentage of bad loans: 7.5",
          "MN<br>Percentage of bad loans: 7.5",
          "MO<br>Percentage of bad loans: 7.7",
          "MS<br>Percentage of bad loans: 5.3",
          "MT<br>Percentage of bad loans: 6.6",
          "NC<br>Percentage of bad loans: 8.1",
          "ND<br>Percentage of bad loans: 0.9",
          "NE<br>Percentage of bad loans: 2.1",
          "NH<br>Percentage of bad loans: 5.7",
          "NJ<br>Percentage of bad loans: 8.1",
          "NM<br>Percentage of bad loans: 8.2",
          "NV<br>Percentage of bad loans: 9.5",
          "NY<br>Percentage of bad loans: 8.6",
          "OH<br>Percentage of bad loans: 7.3",
          "OK<br>Percentage of bad loans: 8.3",
          "OR<br>Percentage of bad loans: 7.2",
          "PA<br>Percentage of bad loans: 7.7",
          "RI<br>Percentage of bad loans: 7.6",
          "SC<br>Percentage of bad loans: 6.4",
          "SD<br>Percentage of bad loans: 7.8",
          "TN<br>Percentage of bad loans: 7.2",
          "TX<br>Percentage of bad loans: 6.8",
          "UT<br>Percentage of bad loans: 8.2",
          "VA<br>Percentage of bad loans: 8.3",
          "VT<br>Percentage of bad loans: 5.5",
          "WA<br>Percentage of bad loans: 7.3",
          "WI<br>Percentage of bad loans: 6.8",
          "WV<br>Percentage of bad loans: 6.1",
          "WY<br>Percentage of bad loans: 5.9"
         ],
         "type": "choropleth",
         "uid": "55c33f34-dabd-11e8-bc95-8c859016eb19",
         "z": [
          6.9,
          9,
          7.8,
          7.8,
          8.2,
          6.4,
          6.9,
          4.8,
          7.6,
          8.5,
          7.2,
          9.5,
          23.1,
          9.1,
          6.4,
          7.1,
          6.3,
          7.1,
          8.2,
          7.4,
          8.1,
          0.2,
          7.5,
          7.5,
          7.7,
          5.3,
          6.6,
          8.1,
          0.9,
          2.1,
          5.7,
          8.1,
          8.2,
          9.5,
          8.6,
          7.3,
          8.3,
          7.2,
          7.7,
          7.6,
          6.4,
          7.8,
          7.2,
          6.8,
          8.2,
          8.3,
          5.5,
          7.3,
          6.8,
          6.1,
          5.9
         ]
        }
       ],
       "layout": {
        "geo": {
         "lakecolor": "rgb(255, 255, 255)",
         "projection": {
          "type": "albers usa"
         },
         "scope": "usa",
         "showlakes": true
        },
        "title": "Percentage of bad loans in each state<br>(Hover for breakdown)"
       }
      },
      "text/html": [
       "<div id=\"3c0569b7-bdce-4b09-ad89-4db6dba50da7\" style=\"height: 525px; width: 100%;\" class=\"plotly-graph-div\"></div><script type=\"text/javascript\">require([\"plotly\"], function(Plotly) { window.PLOTLYENV=window.PLOTLYENV || {};window.PLOTLYENV.BASE_URL=\"https://plot.ly\";Plotly.newPlot(\"3c0569b7-bdce-4b09-ad89-4db6dba50da7\", [{\"autocolorscale\": false, \"colorbar\": {\"title\": \"Percentage\"}, \"colorscale\": [[0.0, \"rgb(202, 202, 202)\"], [0.2, \"rgb(253, 205, 200)\"], [0.4, \"rgb(252, 169, 161)\"], [0.6, \"rgb(247, 121, 108  )\"], [0.8, \"rgb(232, 70, 54)\"], [1.0, \"rgb(212, 31, 13)\"]], \"locationmode\": \"USA-states\", \"locations\": [\"AK\", \"AL\", \"AR\", \"AZ\", \"CA\", \"CO\", \"CT\", \"DC\", \"DE\", \"FL\", \"GA\", \"HI\", \"IA\", \"ID\", \"IL\", \"IN\", \"KS\", \"KY\", \"LA\", \"MA\", \"MD\", \"ME\", \"MI\", \"MN\", \"MO\", \"MS\", \"MT\", \"NC\", \"ND\", \"NE\", \"NH\", \"NJ\", \"NM\", \"NV\", \"NY\", \"OH\", \"OK\", \"OR\", \"PA\", \"RI\", \"SC\", \"SD\", \"TN\", \"TX\", \"UT\", \"VA\", \"VT\", \"WA\", \"WI\", \"WV\", \"WY\"], \"marker\": {\"line\": {\"color\": \"rgb(255,255,255)\", \"width\": 2}}, \"text\": [\"AK<br>Percentage of bad loans: 6.9\", \"AL<br>Percentage of bad loans: 9.0\", \"AR<br>Percentage of bad loans: 7.8\", \"AZ<br>Percentage of bad loans: 7.8\", \"CA<br>Percentage of bad loans: 8.2\", \"CO<br>Percentage of bad loans: 6.4\", \"CT<br>Percentage of bad loans: 6.9\", \"DC<br>Percentage of bad loans: 4.8\", \"DE<br>Percentage of bad loans: 7.6\", \"FL<br>Percentage of bad loans: 8.5\", \"GA<br>Percentage of bad loans: 7.2\", \"HI<br>Percentage of bad loans: 9.5\", \"IA<br>Percentage of bad loans: 23.1\", \"ID<br>Percentage of bad loans: 9.1\", \"IL<br>Percentage of bad loans: 6.4\", \"IN<br>Percentage of bad loans: 7.1\", \"KS<br>Percentage of bad loans: 6.3\", \"KY<br>Percentage of bad loans: 7.1\", \"LA<br>Percentage of bad loans: 8.2\", \"MA<br>Percentage of bad loans: 7.4\", \"MD<br>Percentage of bad loans: 8.1\", \"ME<br>Percentage of bad loans: 0.2\", \"MI<br>Percentage of bad loans: 7.5\", \"MN<br>Percentage of bad loans: 7.5\", \"MO<br>Percentage of bad loans: 7.7\", \"MS<br>Percentage of bad loans: 5.3\", \"MT<br>Percentage of bad loans: 6.6\", \"NC<br>Percentage of bad loans: 8.1\", \"ND<br>Percentage of bad loans: 0.9\", \"NE<br>Percentage of bad loans: 2.1\", \"NH<br>Percentage of bad loans: 5.7\", \"NJ<br>Percentage of bad loans: 8.1\", \"NM<br>Percentage of bad loans: 8.2\", \"NV<br>Percentage of bad loans: 9.5\", \"NY<br>Percentage of bad loans: 8.6\", \"OH<br>Percentage of bad loans: 7.3\", \"OK<br>Percentage of bad loans: 8.3\", \"OR<br>Percentage of bad loans: 7.2\", \"PA<br>Percentage of bad loans: 7.7\", \"RI<br>Percentage of bad loans: 7.6\", \"SC<br>Percentage of bad loans: 6.4\", \"SD<br>Percentage of bad loans: 7.8\", \"TN<br>Percentage of bad loans: 7.2\", \"TX<br>Percentage of bad loans: 6.8\", \"UT<br>Percentage of bad loans: 8.2\", \"VA<br>Percentage of bad loans: 8.3\", \"VT<br>Percentage of bad loans: 5.5\", \"WA<br>Percentage of bad loans: 7.3\", \"WI<br>Percentage of bad loans: 6.8\", \"WV<br>Percentage of bad loans: 6.1\", \"WY<br>Percentage of bad loans: 5.9\"], \"z\": [6.9, 9.0, 7.8, 7.8, 8.2, 6.4, 6.9, 4.8, 7.6, 8.5, 7.2, 9.5, 23.1, 9.1, 6.4, 7.1, 6.3, 7.1, 8.2, 7.4, 8.1, 0.2, 7.5, 7.5, 7.7, 5.3, 6.6, 8.1, 0.9, 2.1, 5.7, 8.1, 8.2, 9.5, 8.6, 7.3, 8.3, 7.2, 7.7, 7.6, 6.4, 7.8, 7.2, 6.8, 8.2, 8.3, 5.5, 7.3, 6.8, 6.1, 5.9], \"type\": \"choropleth\", \"uid\": \"55c6d286-dabd-11e8-950c-8c859016eb19\"}], {\"geo\": {\"lakecolor\": \"rgb(255, 255, 255)\", \"projection\": {\"type\": \"albers usa\"}, \"scope\": \"usa\", \"showlakes\": true}, \"title\": \"Percentage of bad loans in each state<br>(Hover for breakdown)\"}, {\"showLink\": true, \"linkText\": \"Export to plot.ly\"})});</script>"
      ],
      "text/vnd.plotly.v1+html": [
       "<div id=\"3c0569b7-bdce-4b09-ad89-4db6dba50da7\" style=\"height: 525px; width: 100%;\" class=\"plotly-graph-div\"></div><script type=\"text/javascript\">require([\"plotly\"], function(Plotly) { window.PLOTLYENV=window.PLOTLYENV || {};window.PLOTLYENV.BASE_URL=\"https://plot.ly\";Plotly.newPlot(\"3c0569b7-bdce-4b09-ad89-4db6dba50da7\", [{\"autocolorscale\": false, \"colorbar\": {\"title\": \"Percentage\"}, \"colorscale\": [[0.0, \"rgb(202, 202, 202)\"], [0.2, \"rgb(253, 205, 200)\"], [0.4, \"rgb(252, 169, 161)\"], [0.6, \"rgb(247, 121, 108  )\"], [0.8, \"rgb(232, 70, 54)\"], [1.0, \"rgb(212, 31, 13)\"]], \"locationmode\": \"USA-states\", \"locations\": [\"AK\", \"AL\", \"AR\", \"AZ\", \"CA\", \"CO\", \"CT\", \"DC\", \"DE\", \"FL\", \"GA\", \"HI\", \"IA\", \"ID\", \"IL\", \"IN\", \"KS\", \"KY\", \"LA\", \"MA\", \"MD\", \"ME\", \"MI\", \"MN\", \"MO\", \"MS\", \"MT\", \"NC\", \"ND\", \"NE\", \"NH\", \"NJ\", \"NM\", \"NV\", \"NY\", \"OH\", \"OK\", \"OR\", \"PA\", \"RI\", \"SC\", \"SD\", \"TN\", \"TX\", \"UT\", \"VA\", \"VT\", \"WA\", \"WI\", \"WV\", \"WY\"], \"marker\": {\"line\": {\"color\": \"rgb(255,255,255)\", \"width\": 2}}, \"text\": [\"AK<br>Percentage of bad loans: 6.9\", \"AL<br>Percentage of bad loans: 9.0\", \"AR<br>Percentage of bad loans: 7.8\", \"AZ<br>Percentage of bad loans: 7.8\", \"CA<br>Percentage of bad loans: 8.2\", \"CO<br>Percentage of bad loans: 6.4\", \"CT<br>Percentage of bad loans: 6.9\", \"DC<br>Percentage of bad loans: 4.8\", \"DE<br>Percentage of bad loans: 7.6\", \"FL<br>Percentage of bad loans: 8.5\", \"GA<br>Percentage of bad loans: 7.2\", \"HI<br>Percentage of bad loans: 9.5\", \"IA<br>Percentage of bad loans: 23.1\", \"ID<br>Percentage of bad loans: 9.1\", \"IL<br>Percentage of bad loans: 6.4\", \"IN<br>Percentage of bad loans: 7.1\", \"KS<br>Percentage of bad loans: 6.3\", \"KY<br>Percentage of bad loans: 7.1\", \"LA<br>Percentage of bad loans: 8.2\", \"MA<br>Percentage of bad loans: 7.4\", \"MD<br>Percentage of bad loans: 8.1\", \"ME<br>Percentage of bad loans: 0.2\", \"MI<br>Percentage of bad loans: 7.5\", \"MN<br>Percentage of bad loans: 7.5\", \"MO<br>Percentage of bad loans: 7.7\", \"MS<br>Percentage of bad loans: 5.3\", \"MT<br>Percentage of bad loans: 6.6\", \"NC<br>Percentage of bad loans: 8.1\", \"ND<br>Percentage of bad loans: 0.9\", \"NE<br>Percentage of bad loans: 2.1\", \"NH<br>Percentage of bad loans: 5.7\", \"NJ<br>Percentage of bad loans: 8.1\", \"NM<br>Percentage of bad loans: 8.2\", \"NV<br>Percentage of bad loans: 9.5\", \"NY<br>Percentage of bad loans: 8.6\", \"OH<br>Percentage of bad loans: 7.3\", \"OK<br>Percentage of bad loans: 8.3\", \"OR<br>Percentage of bad loans: 7.2\", \"PA<br>Percentage of bad loans: 7.7\", \"RI<br>Percentage of bad loans: 7.6\", \"SC<br>Percentage of bad loans: 6.4\", \"SD<br>Percentage of bad loans: 7.8\", \"TN<br>Percentage of bad loans: 7.2\", \"TX<br>Percentage of bad loans: 6.8\", \"UT<br>Percentage of bad loans: 8.2\", \"VA<br>Percentage of bad loans: 8.3\", \"VT<br>Percentage of bad loans: 5.5\", \"WA<br>Percentage of bad loans: 7.3\", \"WI<br>Percentage of bad loans: 6.8\", \"WV<br>Percentage of bad loans: 6.1\", \"WY<br>Percentage of bad loans: 5.9\"], \"z\": [6.9, 9.0, 7.8, 7.8, 8.2, 6.4, 6.9, 4.8, 7.6, 8.5, 7.2, 9.5, 23.1, 9.1, 6.4, 7.1, 6.3, 7.1, 8.2, 7.4, 8.1, 0.2, 7.5, 7.5, 7.7, 5.3, 6.6, 8.1, 0.9, 2.1, 5.7, 8.1, 8.2, 9.5, 8.6, 7.3, 8.3, 7.2, 7.7, 7.6, 6.4, 7.8, 7.2, 6.8, 8.2, 8.3, 5.5, 7.3, 6.8, 6.1, 5.9], \"type\": \"choropleth\", \"uid\": \"55c6d286-dabd-11e8-950c-8c859016eb19\"}], {\"geo\": {\"lakecolor\": \"rgb(255, 255, 255)\", \"projection\": {\"type\": \"albers usa\"}, \"scope\": \"usa\", \"showlakes\": true}, \"title\": \"Percentage of bad loans in each state<br>(Hover for breakdown)\"}, {\"showLink\": true, \"linkText\": \"Export to plot.ly\"})});</script>"
      ]
     },
     "metadata": {},
     "output_type": "display_data"
    }
   ],
   "source": [
    "# plotting heatmap of bad loan rate in each state\n",
    "state_df2 = state_df\n",
    "for col in state_df2.columns:\n",
    "    state_df2[col] = state_df2[col].astype(str)\n",
    "    \n",
    "scl = [[0.0, 'rgb(202, 202, 202)'],[0.2, 'rgb(253, 205, 200)'],[0.4, 'rgb(252, 169, 161)'],\\\n",
    "            [0.6, 'rgb(247, 121, 108  )'],[0.8, 'rgb(232, 70, 54)'],[1.0, 'rgb(212, 31, 13)']]\n",
    "\n",
    "state_df2['text'] = state_df2['addr_state'] + '<br>' +\\\n",
    "    'Percentage of bad loans: '+state_df2['pctg_bad_loans']\n",
    "\n",
    "data = [ dict(\n",
    "        type='choropleth',\n",
    "        colorscale = scl,\n",
    "        autocolorscale = False,\n",
    "        locations = state_df2['addr_state'],\n",
    "        z = state_df2['pctg_bad_loans'].astype(float),\n",
    "        locationmode = 'USA-states',\n",
    "        text = state_df2['text'],\n",
    "        marker = dict(\n",
    "            line = dict (\n",
    "                color = 'rgb(255,255,255)',\n",
    "                width = 2\n",
    "            )\n",
    "        ),\n",
    "        colorbar = dict(\n",
    "            title = \"Percentage\"\n",
    "        )\n",
    "    ) ]\n",
    "\n",
    "layout = dict(\n",
    "        title = 'Percentage of bad loans in each state<br>(Hover for breakdown)',\n",
    "        geo = dict(\n",
    "            scope='usa',\n",
    "            projection=dict( type='albers usa' ),\n",
    "            showlakes = True,\n",
    "            lakecolor = 'rgb(255, 255, 255)',\n",
    "        ),\n",
    "    )\n",
    "\n",
    "fig = dict( data=data, layout=layout )\n",
    "\n",
    "iplot(fig, filename='d3-cloropleth-map')"
   ]
  },
  {
   "cell_type": "markdown",
   "metadata": {},
   "source": [
    "From the US heatmap above, Iowa has the highest proportion of bad loans while Maine, North Dakota and Nebraska have the lowest proportion of bad loans"
   ]
  },
  {
   "cell_type": "markdown",
   "metadata": {},
   "source": [
    "# Feature Importance\n",
    "\n",
    "Although the EDA above gave us a good sensing on what features are important in determining whether a loan will be paid back/paid on time, we do not know how each of them affect one another. As such, I would be conducting a feature importance study to understand which are the most important features in predicting whether a loan would be repaid back on time."
   ]
  },
  {
   "cell_type": "code",
   "execution_count": 100,
   "metadata": {},
   "outputs": [
    {
     "name": "stdout",
     "output_type": "stream",
     "text": [
      "Index(['member_id', 'loan_amnt', 'funded_amnt', 'funded_amnt_inv', 'int_rate',\n",
      "       'installment', 'grade', 'sub_grade', 'emp_title', 'emp_length',\n",
      "       'home_ownership', 'annual_inc', 'verification_status', 'issue_d',\n",
      "       'loan_status', 'url', 'desc', 'purpose', 'title', 'zip_code',\n",
      "       'addr_state', 'dti', 'term', 'pymnt_plan', 'year', 'target'],\n",
      "      dtype='object')\n"
     ]
    }
   ],
   "source": [
    "print(df_transform.columns)"
   ]
  },
  {
   "cell_type": "code",
   "execution_count": 101,
   "metadata": {},
   "outputs": [],
   "source": [
    "# dropping irrevelant columns\n",
    "df_model_1 = df_transform.drop([\n",
    "        \"member_id\", \"funded_amnt\", \"funded_amnt_inv\", \"installment\", \"emp_title\", \"issue_d\", \"year\", \\\n",
    "        \"loan_status\", \"url\", \"desc\",\"title\", \"zip_code\"], axis=1)"
   ]
  },
  {
   "cell_type": "code",
   "execution_count": 102,
   "metadata": {},
   "outputs": [],
   "source": [
    "cat_feature_list = [i for i in df_model_1.columns if i not in cont_feature_df.columns]"
   ]
  },
  {
   "cell_type": "code",
   "execution_count": 103,
   "metadata": {},
   "outputs": [
    {
     "name": "stdout",
     "output_type": "stream",
     "text": [
      "['grade', 'sub_grade', 'emp_length', 'home_ownership', 'verification_status', 'purpose', 'addr_state', 'term', 'pymnt_plan', 'target']\n"
     ]
    }
   ],
   "source": [
    "print(cat_feature_list)"
   ]
  },
  {
   "cell_type": "code",
   "execution_count": 104,
   "metadata": {},
   "outputs": [],
   "source": [
    "# applying one-hot encoding for categorical variables\n",
    "df_model_1 = (\n",
    "    pd.get_dummies(df_model_1, columns=[i for i in cat_feature_list if i != 'target'], \\\n",
    "                   prefix=[i for i in cat_feature_list if i != 'target'], drop_first=True)\n",
    ")"
   ]
  },
  {
   "cell_type": "code",
   "execution_count": 105,
   "metadata": {
    "scrolled": true
   },
   "outputs": [
    {
     "data": {
      "text/html": [
       "<div>\n",
       "<style scoped>\n",
       "    .dataframe tbody tr th:only-of-type {\n",
       "        vertical-align: middle;\n",
       "    }\n",
       "\n",
       "    .dataframe tbody tr th {\n",
       "        vertical-align: top;\n",
       "    }\n",
       "\n",
       "    .dataframe thead th {\n",
       "        text-align: right;\n",
       "    }\n",
       "</style>\n",
       "<table border=\"1\" class=\"dataframe\">\n",
       "  <thead>\n",
       "    <tr style=\"text-align: right;\">\n",
       "      <th></th>\n",
       "      <th>loan_amnt</th>\n",
       "      <th>int_rate</th>\n",
       "      <th>annual_inc</th>\n",
       "      <th>dti</th>\n",
       "      <th>target</th>\n",
       "      <th>grade_B</th>\n",
       "      <th>grade_C</th>\n",
       "      <th>grade_D</th>\n",
       "      <th>grade_E</th>\n",
       "      <th>grade_F</th>\n",
       "      <th>grade_G</th>\n",
       "      <th>sub_grade_A2</th>\n",
       "      <th>sub_grade_A3</th>\n",
       "      <th>sub_grade_A4</th>\n",
       "      <th>sub_grade_A5</th>\n",
       "      <th>sub_grade_B1</th>\n",
       "      <th>sub_grade_B2</th>\n",
       "      <th>sub_grade_B3</th>\n",
       "      <th>sub_grade_B4</th>\n",
       "      <th>sub_grade_B5</th>\n",
       "      <th>sub_grade_C1</th>\n",
       "      <th>sub_grade_C2</th>\n",
       "      <th>sub_grade_C3</th>\n",
       "      <th>sub_grade_C4</th>\n",
       "      <th>sub_grade_C5</th>\n",
       "      <th>sub_grade_D1</th>\n",
       "      <th>sub_grade_D2</th>\n",
       "      <th>sub_grade_D3</th>\n",
       "      <th>sub_grade_D4</th>\n",
       "      <th>sub_grade_D5</th>\n",
       "      <th>sub_grade_E1</th>\n",
       "      <th>sub_grade_E2</th>\n",
       "      <th>sub_grade_E3</th>\n",
       "      <th>sub_grade_E4</th>\n",
       "      <th>sub_grade_E5</th>\n",
       "      <th>sub_grade_F1</th>\n",
       "      <th>sub_grade_F2</th>\n",
       "      <th>sub_grade_F3</th>\n",
       "      <th>sub_grade_F4</th>\n",
       "      <th>sub_grade_F5</th>\n",
       "      <th>sub_grade_G1</th>\n",
       "      <th>sub_grade_G2</th>\n",
       "      <th>sub_grade_G3</th>\n",
       "      <th>sub_grade_G4</th>\n",
       "      <th>sub_grade_G5</th>\n",
       "      <th>emp_length_10+ years</th>\n",
       "      <th>emp_length_2 years</th>\n",
       "      <th>emp_length_3 years</th>\n",
       "      <th>emp_length_4 years</th>\n",
       "      <th>emp_length_5 years</th>\n",
       "      <th>...</th>\n",
       "      <th>addr_state_CA</th>\n",
       "      <th>addr_state_CO</th>\n",
       "      <th>addr_state_CT</th>\n",
       "      <th>addr_state_DC</th>\n",
       "      <th>addr_state_DE</th>\n",
       "      <th>addr_state_FL</th>\n",
       "      <th>addr_state_GA</th>\n",
       "      <th>addr_state_HI</th>\n",
       "      <th>addr_state_IA</th>\n",
       "      <th>addr_state_ID</th>\n",
       "      <th>addr_state_IL</th>\n",
       "      <th>addr_state_IN</th>\n",
       "      <th>addr_state_KS</th>\n",
       "      <th>addr_state_KY</th>\n",
       "      <th>addr_state_LA</th>\n",
       "      <th>addr_state_MA</th>\n",
       "      <th>addr_state_MD</th>\n",
       "      <th>addr_state_ME</th>\n",
       "      <th>addr_state_MI</th>\n",
       "      <th>addr_state_MN</th>\n",
       "      <th>addr_state_MO</th>\n",
       "      <th>addr_state_MS</th>\n",
       "      <th>addr_state_MT</th>\n",
       "      <th>addr_state_NC</th>\n",
       "      <th>addr_state_ND</th>\n",
       "      <th>addr_state_NE</th>\n",
       "      <th>addr_state_NH</th>\n",
       "      <th>addr_state_NJ</th>\n",
       "      <th>addr_state_NM</th>\n",
       "      <th>addr_state_NV</th>\n",
       "      <th>addr_state_NY</th>\n",
       "      <th>addr_state_OH</th>\n",
       "      <th>addr_state_OK</th>\n",
       "      <th>addr_state_OR</th>\n",
       "      <th>addr_state_PA</th>\n",
       "      <th>addr_state_RI</th>\n",
       "      <th>addr_state_SC</th>\n",
       "      <th>addr_state_SD</th>\n",
       "      <th>addr_state_TN</th>\n",
       "      <th>addr_state_TX</th>\n",
       "      <th>addr_state_UT</th>\n",
       "      <th>addr_state_VA</th>\n",
       "      <th>addr_state_VT</th>\n",
       "      <th>addr_state_WA</th>\n",
       "      <th>addr_state_WI</th>\n",
       "      <th>addr_state_WV</th>\n",
       "      <th>addr_state_WY</th>\n",
       "      <th>term__36_months</th>\n",
       "      <th>term__60_months</th>\n",
       "      <th>pymnt_plan_y</th>\n",
       "    </tr>\n",
       "  </thead>\n",
       "  <tbody>\n",
       "    <tr>\n",
       "      <th>0</th>\n",
       "      <td>5000.0</td>\n",
       "      <td>10.65</td>\n",
       "      <td>24000.0</td>\n",
       "      <td>27.65</td>\n",
       "      <td>1</td>\n",
       "      <td>1</td>\n",
       "      <td>0</td>\n",
       "      <td>0</td>\n",
       "      <td>0</td>\n",
       "      <td>0</td>\n",
       "      <td>0</td>\n",
       "      <td>0</td>\n",
       "      <td>0</td>\n",
       "      <td>0</td>\n",
       "      <td>0</td>\n",
       "      <td>0</td>\n",
       "      <td>1</td>\n",
       "      <td>0</td>\n",
       "      <td>0</td>\n",
       "      <td>0</td>\n",
       "      <td>0</td>\n",
       "      <td>0</td>\n",
       "      <td>0</td>\n",
       "      <td>0</td>\n",
       "      <td>0</td>\n",
       "      <td>0</td>\n",
       "      <td>0</td>\n",
       "      <td>0</td>\n",
       "      <td>0</td>\n",
       "      <td>0</td>\n",
       "      <td>0</td>\n",
       "      <td>0</td>\n",
       "      <td>0</td>\n",
       "      <td>0</td>\n",
       "      <td>0</td>\n",
       "      <td>0</td>\n",
       "      <td>0</td>\n",
       "      <td>0</td>\n",
       "      <td>0</td>\n",
       "      <td>0</td>\n",
       "      <td>0</td>\n",
       "      <td>0</td>\n",
       "      <td>0</td>\n",
       "      <td>0</td>\n",
       "      <td>0</td>\n",
       "      <td>1</td>\n",
       "      <td>0</td>\n",
       "      <td>0</td>\n",
       "      <td>0</td>\n",
       "      <td>0</td>\n",
       "      <td>...</td>\n",
       "      <td>0</td>\n",
       "      <td>0</td>\n",
       "      <td>0</td>\n",
       "      <td>0</td>\n",
       "      <td>0</td>\n",
       "      <td>0</td>\n",
       "      <td>0</td>\n",
       "      <td>0</td>\n",
       "      <td>0</td>\n",
       "      <td>0</td>\n",
       "      <td>0</td>\n",
       "      <td>0</td>\n",
       "      <td>0</td>\n",
       "      <td>0</td>\n",
       "      <td>0</td>\n",
       "      <td>0</td>\n",
       "      <td>0</td>\n",
       "      <td>0</td>\n",
       "      <td>0</td>\n",
       "      <td>0</td>\n",
       "      <td>0</td>\n",
       "      <td>0</td>\n",
       "      <td>0</td>\n",
       "      <td>0</td>\n",
       "      <td>0</td>\n",
       "      <td>0</td>\n",
       "      <td>0</td>\n",
       "      <td>0</td>\n",
       "      <td>0</td>\n",
       "      <td>0</td>\n",
       "      <td>0</td>\n",
       "      <td>0</td>\n",
       "      <td>0</td>\n",
       "      <td>0</td>\n",
       "      <td>0</td>\n",
       "      <td>0</td>\n",
       "      <td>0</td>\n",
       "      <td>0</td>\n",
       "      <td>0</td>\n",
       "      <td>0</td>\n",
       "      <td>0</td>\n",
       "      <td>0</td>\n",
       "      <td>0</td>\n",
       "      <td>0</td>\n",
       "      <td>0</td>\n",
       "      <td>0</td>\n",
       "      <td>0</td>\n",
       "      <td>1</td>\n",
       "      <td>0</td>\n",
       "      <td>0</td>\n",
       "    </tr>\n",
       "  </tbody>\n",
       "</table>\n",
       "<p>1 rows × 129 columns</p>\n",
       "</div>"
      ],
      "text/plain": [
       "   loan_amnt  int_rate  annual_inc    dti  target  grade_B  grade_C  grade_D  \\\n",
       "0     5000.0     10.65     24000.0  27.65       1        1        0        0   \n",
       "\n",
       "   grade_E  grade_F  grade_G  sub_grade_A2  sub_grade_A3  sub_grade_A4  \\\n",
       "0        0        0        0             0             0             0   \n",
       "\n",
       "   sub_grade_A5  sub_grade_B1  sub_grade_B2  sub_grade_B3  sub_grade_B4  \\\n",
       "0             0             0             1             0             0   \n",
       "\n",
       "   sub_grade_B5  sub_grade_C1  sub_grade_C2  sub_grade_C3  sub_grade_C4  \\\n",
       "0             0             0             0             0             0   \n",
       "\n",
       "   sub_grade_C5  sub_grade_D1  sub_grade_D2  sub_grade_D3  sub_grade_D4  \\\n",
       "0             0             0             0             0             0   \n",
       "\n",
       "   sub_grade_D5  sub_grade_E1  sub_grade_E2  sub_grade_E3  sub_grade_E4  \\\n",
       "0             0             0             0             0             0   \n",
       "\n",
       "   sub_grade_E5  sub_grade_F1  sub_grade_F2  sub_grade_F3  sub_grade_F4  \\\n",
       "0             0             0             0             0             0   \n",
       "\n",
       "   sub_grade_F5  sub_grade_G1  sub_grade_G2  sub_grade_G3  sub_grade_G4  \\\n",
       "0             0             0             0             0             0   \n",
       "\n",
       "   sub_grade_G5  emp_length_10+ years  emp_length_2 years  emp_length_3 years  \\\n",
       "0             0                     1                   0                   0   \n",
       "\n",
       "   emp_length_4 years  emp_length_5 years      ...       addr_state_CA  \\\n",
       "0                   0                   0      ...                   0   \n",
       "\n",
       "   addr_state_CO  addr_state_CT  addr_state_DC  addr_state_DE  addr_state_FL  \\\n",
       "0              0              0              0              0              0   \n",
       "\n",
       "   addr_state_GA  addr_state_HI  addr_state_IA  addr_state_ID  addr_state_IL  \\\n",
       "0              0              0              0              0              0   \n",
       "\n",
       "   addr_state_IN  addr_state_KS  addr_state_KY  addr_state_LA  addr_state_MA  \\\n",
       "0              0              0              0              0              0   \n",
       "\n",
       "   addr_state_MD  addr_state_ME  addr_state_MI  addr_state_MN  addr_state_MO  \\\n",
       "0              0              0              0              0              0   \n",
       "\n",
       "   addr_state_MS  addr_state_MT  addr_state_NC  addr_state_ND  addr_state_NE  \\\n",
       "0              0              0              0              0              0   \n",
       "\n",
       "   addr_state_NH  addr_state_NJ  addr_state_NM  addr_state_NV  addr_state_NY  \\\n",
       "0              0              0              0              0              0   \n",
       "\n",
       "   addr_state_OH  addr_state_OK  addr_state_OR  addr_state_PA  addr_state_RI  \\\n",
       "0              0              0              0              0              0   \n",
       "\n",
       "   addr_state_SC  addr_state_SD  addr_state_TN  addr_state_TX  addr_state_UT  \\\n",
       "0              0              0              0              0              0   \n",
       "\n",
       "   addr_state_VA  addr_state_VT  addr_state_WA  addr_state_WI  addr_state_WV  \\\n",
       "0              0              0              0              0              0   \n",
       "\n",
       "   addr_state_WY  term__36_months  term__60_months  pymnt_plan_y  \n",
       "0              0                1                0             0  \n",
       "\n",
       "[1 rows x 129 columns]"
      ]
     },
     "execution_count": 105,
     "metadata": {},
     "output_type": "execute_result"
    }
   ],
   "source": [
    "df_model_1.head(1)"
   ]
  },
  {
   "cell_type": "code",
   "execution_count": 106,
   "metadata": {},
   "outputs": [
    {
     "data": {
      "text/plain": [
       "(868956, 129)"
      ]
     },
     "execution_count": 106,
     "metadata": {},
     "output_type": "execute_result"
    }
   ],
   "source": [
    "df_model_1.shape"
   ]
  },
  {
   "cell_type": "code",
   "execution_count": 107,
   "metadata": {},
   "outputs": [
    {
     "name": "stdout",
     "output_type": "stream",
     "text": [
      "number of good loans: 802270\n",
      "number of bad loans: 66686\n"
     ]
    }
   ],
   "source": [
    "print('number of good loans: ' + str(df_model_1.query(\"target==1\").shape[0]))\n",
    "print('number of bad loans: ' + str(df_model_1.query(\"target==0\").shape[0]))"
   ]
  },
  {
   "cell_type": "markdown",
   "metadata": {},
   "source": [
    "We can see that the data is skewed. I will under-sample the the data of good loans to obtain a data set where good and bad loans are proportionate, i.e. baseline accuracy = 0.5"
   ]
  },
  {
   "cell_type": "code",
   "execution_count": 108,
   "metadata": {
    "collapsed": true
   },
   "outputs": [],
   "source": [
    "def under_sampling_good_loans(df):\n",
    "    good_df = df.query(\"target==1\")\n",
    "    bad_df = df.query(\"target==0\")\n",
    "    good_sample_df = good_df.sample(n=bad_df.shape[0], random_state=13)\n",
    "    final_df = pd.concat([bad_df, good_sample_df], axis=0, ignore_index=True)\n",
    "    \n",
    "    return final_df"
   ]
  },
  {
   "cell_type": "code",
   "execution_count": 109,
   "metadata": {
    "collapsed": true
   },
   "outputs": [],
   "source": [
    "df_model_1 = under_sampling_good_loans(df_model_1)"
   ]
  },
  {
   "cell_type": "code",
   "execution_count": 110,
   "metadata": {
    "collapsed": true
   },
   "outputs": [],
   "source": [
    "x = df_model_1[[i for i in df_model_1.columns if i != 'target']]\n",
    "y = df_model_1['target']"
   ]
  },
  {
   "cell_type": "code",
   "execution_count": 111,
   "metadata": {
    "collapsed": true
   },
   "outputs": [],
   "source": [
    "# split data train 70 % and test 30 %\n",
    "x_train, x_test, y_train, y_test = train_test_split(x, y, test_size=0.3, random_state=13)"
   ]
  },
  {
   "cell_type": "code",
   "execution_count": 112,
   "metadata": {
    "collapsed": true
   },
   "outputs": [],
   "source": [
    "# using min-max scaler so that my data will be within 1 and 0\n",
    "mm = MinMaxScaler()\n",
    "x_mm_train = mm.fit_transform(x_train)\n",
    "x_mm_test = mm.transform(x_test)"
   ]
  },
  {
   "cell_type": "code",
   "execution_count": 38,
   "metadata": {},
   "outputs": [],
   "source": [
    "# using gridsearch to optimise my selected model\n",
    "gs_params ={\n",
    "    'max_depth': np.linspace(1,129,5,dtype=int),\n",
    "    'n_estimators':np.linspace(10,100,5,dtype=int),\n",
    "    'random_state':[13]\n",
    "}\n",
    "\n",
    "# choosing random forest as my base model\n",
    "rclf_gs = GridSearchCV(RandomForestClassifier(), gs_params, n_jobs = -1, verbose = 1, cv = 3)"
   ]
  },
  {
   "cell_type": "code",
   "execution_count": 39,
   "metadata": {},
   "outputs": [
    {
     "name": "stdout",
     "output_type": "stream",
     "text": [
      "Fitting 3 folds for each of 25 candidates, totalling 75 fits\n"
     ]
    },
    {
     "name": "stderr",
     "output_type": "stream",
     "text": [
      "[Parallel(n_jobs=-1)]: Done  42 tasks      | elapsed:  1.6min\n",
      "[Parallel(n_jobs=-1)]: Done  75 out of  75 | elapsed:  3.5min finished\n"
     ]
    },
    {
     "data": {
      "text/plain": [
       "GridSearchCV(cv=3, error_score='raise',\n",
       "       estimator=RandomForestClassifier(bootstrap=True, class_weight=None, criterion='gini',\n",
       "            max_depth=None, max_features='auto', max_leaf_nodes=None,\n",
       "            min_impurity_decrease=0.0, min_impurity_split=None,\n",
       "            min_samples_leaf=1, min_samples_split=2,\n",
       "            min_weight_fraction_leaf=0.0, n_estimators=10, n_jobs=1,\n",
       "            oob_score=False, random_state=None, verbose=0,\n",
       "            warm_start=False),\n",
       "       fit_params=None, iid=True, n_jobs=-1,\n",
       "       param_grid={'max_depth': array([  1,  33,  65,  97, 129]), 'n_estimators': array([ 10,  32,  55,  77, 100]), 'random_state': [13]},\n",
       "       pre_dispatch='2*n_jobs', refit=True, return_train_score='warn',\n",
       "       scoring=None, verbose=1)"
      ]
     },
     "execution_count": 39,
     "metadata": {},
     "output_type": "execute_result"
    }
   ],
   "source": [
    "rclf_gs.fit(x_mm_train, y_train)"
   ]
  },
  {
   "cell_type": "code",
   "execution_count": 40,
   "metadata": {},
   "outputs": [
    {
     "data": {
      "text/plain": [
       "RandomForestClassifier(bootstrap=True, class_weight=None, criterion='gini',\n",
       "            max_depth=33, max_features='auto', max_leaf_nodes=None,\n",
       "            min_impurity_decrease=0.0, min_impurity_split=None,\n",
       "            min_samples_leaf=1, min_samples_split=2,\n",
       "            min_weight_fraction_leaf=0.0, n_estimators=100, n_jobs=1,\n",
       "            oob_score=False, random_state=13, verbose=0, warm_start=False)"
      ]
     },
     "execution_count": 40,
     "metadata": {},
     "output_type": "execute_result"
    }
   ],
   "source": [
    "rclf_gs.best_estimator_"
   ]
  },
  {
   "cell_type": "code",
   "execution_count": 113,
   "metadata": {},
   "outputs": [
    {
     "name": "stderr",
     "output_type": "stream",
     "text": [
      "[Parallel(n_jobs=-1)]: Done  42 tasks      | elapsed:    3.6s\n",
      "[Parallel(n_jobs=-1)]: Done 100 out of 100 | elapsed:    8.6s finished\n"
     ]
    },
    {
     "data": {
      "text/plain": [
       "RandomForestClassifier(bootstrap=True, class_weight=None, criterion='gini',\n",
       "            max_depth=33, max_features='auto', max_leaf_nodes=None,\n",
       "            min_impurity_decrease=0.0, min_impurity_split=None,\n",
       "            min_samples_leaf=1, min_samples_split=2,\n",
       "            min_weight_fraction_leaf=0.0, n_estimators=100, n_jobs=-1,\n",
       "            oob_score=False, random_state=13, verbose=1, warm_start=False)"
      ]
     },
     "execution_count": 113,
     "metadata": {},
     "output_type": "execute_result"
    }
   ],
   "source": [
    "rfclf = RandomForestClassifier(bootstrap=True, class_weight=None, criterion='gini',\n",
    "            max_depth=33, max_features='auto', max_leaf_nodes=None,\n",
    "            min_impurity_decrease=0.0, min_impurity_split=None,\n",
    "            min_samples_leaf=1, min_samples_split=2,\n",
    "            min_weight_fraction_leaf=0.0, n_estimators=100, n_jobs=-1,\n",
    "            oob_score=False, random_state=13, verbose=1, warm_start=False)\n",
    "rfclf.fit(x_mm_train, y_train)"
   ]
  },
  {
   "cell_type": "code",
   "execution_count": 42,
   "metadata": {
    "collapsed": true
   },
   "outputs": [],
   "source": [
    "def model_perf(model, X_test, y_test):\n",
    "    \"\"\" \n",
    "    Evaluating performance of supervised models\n",
    "    Returns\n",
    "    -----------\n",
    "    Model score, precision score (minority class), recall score (minority class),\n",
    "    f1 score (minority class) and auc score (unweighted average)\n",
    "    \"\"\"\n",
    "    model_yhat = model.predict(X_test)\n",
    "    model_score = model.score(X_test, y_test)\n",
    "    model_f1 = f1_score(y_test, model_yhat)\n",
    "    model_precision = precision_score(y_test, model_yhat)\n",
    "    model_recall = recall_score(y_test, model_yhat)\n",
    "    model_auc = roc_auc_score(y_test, model_yhat)\n",
    "    \n",
    "    return (model_score, model_precision, model_recall, model_f1, model_auc)"
   ]
  },
  {
   "cell_type": "code",
   "execution_count": 114,
   "metadata": {},
   "outputs": [
    {
     "name": "stderr",
     "output_type": "stream",
     "text": [
      "[Parallel(n_jobs=4)]: Done  42 tasks      | elapsed:    0.3s\n",
      "[Parallel(n_jobs=4)]: Done 100 out of 100 | elapsed:    0.6s finished\n",
      "[Parallel(n_jobs=4)]: Done  42 tasks      | elapsed:    0.2s\n",
      "[Parallel(n_jobs=4)]: Done 100 out of 100 | elapsed:    0.5s finished\n"
     ]
    }
   ],
   "source": [
    "model_score, model_precision, model_recall, model_f1, model_auc = model_perf(rfclf, x_mm_test, y_test)"
   ]
  },
  {
   "cell_type": "code",
   "execution_count": 115,
   "metadata": {},
   "outputs": [
    {
     "data": {
      "text/html": [
       "<div>\n",
       "<style scoped>\n",
       "    .dataframe tbody tr th:only-of-type {\n",
       "        vertical-align: middle;\n",
       "    }\n",
       "\n",
       "    .dataframe tbody tr th {\n",
       "        vertical-align: top;\n",
       "    }\n",
       "\n",
       "    .dataframe thead th {\n",
       "        text-align: right;\n",
       "    }\n",
       "</style>\n",
       "<table border=\"1\" class=\"dataframe\">\n",
       "  <thead>\n",
       "    <tr style=\"text-align: right;\">\n",
       "      <th></th>\n",
       "      <th>rf_all_features</th>\n",
       "    </tr>\n",
       "  </thead>\n",
       "  <tbody>\n",
       "    <tr>\n",
       "      <th>model score</th>\n",
       "      <td>0.667950</td>\n",
       "    </tr>\n",
       "    <tr>\n",
       "      <th>precision score</th>\n",
       "      <td>0.679116</td>\n",
       "    </tr>\n",
       "    <tr>\n",
       "      <th>recall score</th>\n",
       "      <td>0.627907</td>\n",
       "    </tr>\n",
       "    <tr>\n",
       "      <th>f1 score</th>\n",
       "      <td>0.652508</td>\n",
       "    </tr>\n",
       "    <tr>\n",
       "      <th>auc</th>\n",
       "      <td>0.667671</td>\n",
       "    </tr>\n",
       "  </tbody>\n",
       "</table>\n",
       "</div>"
      ],
      "text/plain": [
       "                 rf_all_features\n",
       "model score             0.667950\n",
       "precision score         0.679116\n",
       "recall score            0.627907\n",
       "f1 score                0.652508\n",
       "auc                     0.667671"
      ]
     },
     "execution_count": 115,
     "metadata": {},
     "output_type": "execute_result"
    }
   ],
   "source": [
    "model_perf_df = pd.DataFrame({'rf_all_features':[model_score, model_precision, model_recall, model_f1, model_auc]},\n",
    "                      index = ['model score','precision score','recall score','f1 score', 'auc'])\n",
    "model_perf_df"
   ]
  },
  {
   "cell_type": "code",
   "execution_count": 116,
   "metadata": {
    "scrolled": true
   },
   "outputs": [
    {
     "data": {
      "text/html": [
       "<div>\n",
       "<style scoped>\n",
       "    .dataframe tbody tr th:only-of-type {\n",
       "        vertical-align: middle;\n",
       "    }\n",
       "\n",
       "    .dataframe tbody tr th {\n",
       "        vertical-align: top;\n",
       "    }\n",
       "\n",
       "    .dataframe thead th {\n",
       "        text-align: right;\n",
       "    }\n",
       "</style>\n",
       "<table border=\"1\" class=\"dataframe\">\n",
       "  <thead>\n",
       "    <tr style=\"text-align: right;\">\n",
       "      <th></th>\n",
       "      <th>features</th>\n",
       "      <th>importance</th>\n",
       "      <th>cumulative_sum</th>\n",
       "    </tr>\n",
       "  </thead>\n",
       "  <tbody>\n",
       "    <tr>\n",
       "      <th>0</th>\n",
       "      <td>int_rate</td>\n",
       "      <td>0.168165</td>\n",
       "      <td>0.168165</td>\n",
       "    </tr>\n",
       "    <tr>\n",
       "      <th>1</th>\n",
       "      <td>dti</td>\n",
       "      <td>0.109677</td>\n",
       "      <td>0.277842</td>\n",
       "    </tr>\n",
       "    <tr>\n",
       "      <th>2</th>\n",
       "      <td>annual_inc</td>\n",
       "      <td>0.106555</td>\n",
       "      <td>0.384397</td>\n",
       "    </tr>\n",
       "    <tr>\n",
       "      <th>3</th>\n",
       "      <td>loan_amnt</td>\n",
       "      <td>0.095408</td>\n",
       "      <td>0.479805</td>\n",
       "    </tr>\n",
       "    <tr>\n",
       "      <th>4</th>\n",
       "      <td>emp_length_10+ years</td>\n",
       "      <td>0.014383</td>\n",
       "      <td>0.494188</td>\n",
       "    </tr>\n",
       "    <tr>\n",
       "      <th>5</th>\n",
       "      <td>verification_status_Verified</td>\n",
       "      <td>0.014361</td>\n",
       "      <td>0.508549</td>\n",
       "    </tr>\n",
       "    <tr>\n",
       "      <th>6</th>\n",
       "      <td>purpose_debt_consolidation</td>\n",
       "      <td>0.014104</td>\n",
       "      <td>0.522652</td>\n",
       "    </tr>\n",
       "    <tr>\n",
       "      <th>7</th>\n",
       "      <td>verification_status_Source_Verified</td>\n",
       "      <td>0.013772</td>\n",
       "      <td>0.536425</td>\n",
       "    </tr>\n",
       "    <tr>\n",
       "      <th>8</th>\n",
       "      <td>addr_state_CA</td>\n",
       "      <td>0.012769</td>\n",
       "      <td>0.549194</td>\n",
       "    </tr>\n",
       "    <tr>\n",
       "      <th>9</th>\n",
       "      <td>purpose_credit_card</td>\n",
       "      <td>0.011340</td>\n",
       "      <td>0.560534</td>\n",
       "    </tr>\n",
       "    <tr>\n",
       "      <th>10</th>\n",
       "      <td>home_ownership_RENT</td>\n",
       "      <td>0.010517</td>\n",
       "      <td>0.571050</td>\n",
       "    </tr>\n",
       "    <tr>\n",
       "      <th>11</th>\n",
       "      <td>home_ownership_MORTGAGE</td>\n",
       "      <td>0.010400</td>\n",
       "      <td>0.581450</td>\n",
       "    </tr>\n",
       "    <tr>\n",
       "      <th>12</th>\n",
       "      <td>addr_state_NY</td>\n",
       "      <td>0.010284</td>\n",
       "      <td>0.591734</td>\n",
       "    </tr>\n",
       "    <tr>\n",
       "      <th>13</th>\n",
       "      <td>emp_length_2 years</td>\n",
       "      <td>0.009588</td>\n",
       "      <td>0.601322</td>\n",
       "    </tr>\n",
       "    <tr>\n",
       "      <th>14</th>\n",
       "      <td>addr_state_TX</td>\n",
       "      <td>0.009459</td>\n",
       "      <td>0.610781</td>\n",
       "    </tr>\n",
       "    <tr>\n",
       "      <th>15</th>\n",
       "      <td>addr_state_FL</td>\n",
       "      <td>0.009444</td>\n",
       "      <td>0.620225</td>\n",
       "    </tr>\n",
       "    <tr>\n",
       "      <th>16</th>\n",
       "      <td>emp_length_&lt; 1 year</td>\n",
       "      <td>0.009208</td>\n",
       "      <td>0.629433</td>\n",
       "    </tr>\n",
       "    <tr>\n",
       "      <th>17</th>\n",
       "      <td>emp_length_3 years</td>\n",
       "      <td>0.009084</td>\n",
       "      <td>0.638517</td>\n",
       "    </tr>\n",
       "    <tr>\n",
       "      <th>18</th>\n",
       "      <td>term__36_months</td>\n",
       "      <td>0.008494</td>\n",
       "      <td>0.647011</td>\n",
       "    </tr>\n",
       "    <tr>\n",
       "      <th>19</th>\n",
       "      <td>emp_length_5 years</td>\n",
       "      <td>0.008313</td>\n",
       "      <td>0.655325</td>\n",
       "    </tr>\n",
       "    <tr>\n",
       "      <th>20</th>\n",
       "      <td>grade_F</td>\n",
       "      <td>0.008155</td>\n",
       "      <td>0.663480</td>\n",
       "    </tr>\n",
       "    <tr>\n",
       "      <th>21</th>\n",
       "      <td>emp_length_4 years</td>\n",
       "      <td>0.008031</td>\n",
       "      <td>0.671511</td>\n",
       "    </tr>\n",
       "    <tr>\n",
       "      <th>22</th>\n",
       "      <td>grade_E</td>\n",
       "      <td>0.007999</td>\n",
       "      <td>0.679510</td>\n",
       "    </tr>\n",
       "    <tr>\n",
       "      <th>23</th>\n",
       "      <td>grade_D</td>\n",
       "      <td>0.007996</td>\n",
       "      <td>0.687506</td>\n",
       "    </tr>\n",
       "    <tr>\n",
       "      <th>24</th>\n",
       "      <td>term__60_months</td>\n",
       "      <td>0.007974</td>\n",
       "      <td>0.695480</td>\n",
       "    </tr>\n",
       "    <tr>\n",
       "      <th>25</th>\n",
       "      <td>grade_B</td>\n",
       "      <td>0.007899</td>\n",
       "      <td>0.703379</td>\n",
       "    </tr>\n",
       "    <tr>\n",
       "      <th>26</th>\n",
       "      <td>emp_length_7 years</td>\n",
       "      <td>0.007661</td>\n",
       "      <td>0.711039</td>\n",
       "    </tr>\n",
       "    <tr>\n",
       "      <th>27</th>\n",
       "      <td>home_ownership_OWN</td>\n",
       "      <td>0.007541</td>\n",
       "      <td>0.718580</td>\n",
       "    </tr>\n",
       "    <tr>\n",
       "      <th>28</th>\n",
       "      <td>emp_length_6 years</td>\n",
       "      <td>0.007405</td>\n",
       "      <td>0.725985</td>\n",
       "    </tr>\n",
       "    <tr>\n",
       "      <th>29</th>\n",
       "      <td>emp_length_8 years</td>\n",
       "      <td>0.007221</td>\n",
       "      <td>0.733206</td>\n",
       "    </tr>\n",
       "    <tr>\n",
       "      <th>...</th>\n",
       "      <td>...</td>\n",
       "      <td>...</td>\n",
       "      <td>...</td>\n",
       "    </tr>\n",
       "    <tr>\n",
       "      <th>98</th>\n",
       "      <td>addr_state_NH</td>\n",
       "      <td>0.001505</td>\n",
       "      <td>0.981651</td>\n",
       "    </tr>\n",
       "    <tr>\n",
       "      <th>99</th>\n",
       "      <td>sub_grade_F2</td>\n",
       "      <td>0.001490</td>\n",
       "      <td>0.983141</td>\n",
       "    </tr>\n",
       "    <tr>\n",
       "      <th>100</th>\n",
       "      <td>addr_state_RI</td>\n",
       "      <td>0.001449</td>\n",
       "      <td>0.984590</td>\n",
       "    </tr>\n",
       "    <tr>\n",
       "      <th>101</th>\n",
       "      <td>purpose_house</td>\n",
       "      <td>0.001439</td>\n",
       "      <td>0.986029</td>\n",
       "    </tr>\n",
       "    <tr>\n",
       "      <th>102</th>\n",
       "      <td>sub_grade_F3</td>\n",
       "      <td>0.001279</td>\n",
       "      <td>0.987307</td>\n",
       "    </tr>\n",
       "    <tr>\n",
       "      <th>103</th>\n",
       "      <td>purpose_wedding</td>\n",
       "      <td>0.001229</td>\n",
       "      <td>0.988537</td>\n",
       "    </tr>\n",
       "    <tr>\n",
       "      <th>104</th>\n",
       "      <td>addr_state_MS</td>\n",
       "      <td>0.001217</td>\n",
       "      <td>0.989754</td>\n",
       "    </tr>\n",
       "    <tr>\n",
       "      <th>105</th>\n",
       "      <td>addr_state_DE</td>\n",
       "      <td>0.001105</td>\n",
       "      <td>0.990858</td>\n",
       "    </tr>\n",
       "    <tr>\n",
       "      <th>106</th>\n",
       "      <td>sub_grade_F4</td>\n",
       "      <td>0.001091</td>\n",
       "      <td>0.991949</td>\n",
       "    </tr>\n",
       "    <tr>\n",
       "      <th>107</th>\n",
       "      <td>sub_grade_F5</td>\n",
       "      <td>0.001067</td>\n",
       "      <td>0.993016</td>\n",
       "    </tr>\n",
       "    <tr>\n",
       "      <th>108</th>\n",
       "      <td>addr_state_MT</td>\n",
       "      <td>0.001062</td>\n",
       "      <td>0.994078</td>\n",
       "    </tr>\n",
       "    <tr>\n",
       "      <th>109</th>\n",
       "      <td>addr_state_SD</td>\n",
       "      <td>0.000790</td>\n",
       "      <td>0.994868</td>\n",
       "    </tr>\n",
       "    <tr>\n",
       "      <th>110</th>\n",
       "      <td>addr_state_WY</td>\n",
       "      <td>0.000786</td>\n",
       "      <td>0.995654</td>\n",
       "    </tr>\n",
       "    <tr>\n",
       "      <th>111</th>\n",
       "      <td>addr_state_DC</td>\n",
       "      <td>0.000761</td>\n",
       "      <td>0.996415</td>\n",
       "    </tr>\n",
       "    <tr>\n",
       "      <th>112</th>\n",
       "      <td>addr_state_VT</td>\n",
       "      <td>0.000555</td>\n",
       "      <td>0.996970</td>\n",
       "    </tr>\n",
       "    <tr>\n",
       "      <th>113</th>\n",
       "      <td>sub_grade_G1</td>\n",
       "      <td>0.000470</td>\n",
       "      <td>0.997440</td>\n",
       "    </tr>\n",
       "    <tr>\n",
       "      <th>114</th>\n",
       "      <td>purpose_renewable_energy</td>\n",
       "      <td>0.000430</td>\n",
       "      <td>0.997870</td>\n",
       "    </tr>\n",
       "    <tr>\n",
       "      <th>115</th>\n",
       "      <td>sub_grade_G2</td>\n",
       "      <td>0.000389</td>\n",
       "      <td>0.998259</td>\n",
       "    </tr>\n",
       "    <tr>\n",
       "      <th>116</th>\n",
       "      <td>addr_state_NE</td>\n",
       "      <td>0.000327</td>\n",
       "      <td>0.998586</td>\n",
       "    </tr>\n",
       "    <tr>\n",
       "      <th>117</th>\n",
       "      <td>sub_grade_G3</td>\n",
       "      <td>0.000294</td>\n",
       "      <td>0.998880</td>\n",
       "    </tr>\n",
       "    <tr>\n",
       "      <th>118</th>\n",
       "      <td>purpose_educational</td>\n",
       "      <td>0.000285</td>\n",
       "      <td>0.999165</td>\n",
       "    </tr>\n",
       "    <tr>\n",
       "      <th>119</th>\n",
       "      <td>sub_grade_G5</td>\n",
       "      <td>0.000203</td>\n",
       "      <td>0.999367</td>\n",
       "    </tr>\n",
       "    <tr>\n",
       "      <th>120</th>\n",
       "      <td>sub_grade_G4</td>\n",
       "      <td>0.000199</td>\n",
       "      <td>0.999566</td>\n",
       "    </tr>\n",
       "    <tr>\n",
       "      <th>121</th>\n",
       "      <td>home_ownership_OTHER</td>\n",
       "      <td>0.000185</td>\n",
       "      <td>0.999752</td>\n",
       "    </tr>\n",
       "    <tr>\n",
       "      <th>122</th>\n",
       "      <td>addr_state_ND</td>\n",
       "      <td>0.000109</td>\n",
       "      <td>0.999860</td>\n",
       "    </tr>\n",
       "    <tr>\n",
       "      <th>123</th>\n",
       "      <td>addr_state_ME</td>\n",
       "      <td>0.000100</td>\n",
       "      <td>0.999960</td>\n",
       "    </tr>\n",
       "    <tr>\n",
       "      <th>124</th>\n",
       "      <td>home_ownership_NONE</td>\n",
       "      <td>0.000022</td>\n",
       "      <td>0.999982</td>\n",
       "    </tr>\n",
       "    <tr>\n",
       "      <th>125</th>\n",
       "      <td>pymnt_plan_y</td>\n",
       "      <td>0.000014</td>\n",
       "      <td>0.999996</td>\n",
       "    </tr>\n",
       "    <tr>\n",
       "      <th>126</th>\n",
       "      <td>addr_state_IA</td>\n",
       "      <td>0.000002</td>\n",
       "      <td>0.999998</td>\n",
       "    </tr>\n",
       "    <tr>\n",
       "      <th>127</th>\n",
       "      <td>addr_state_ID</td>\n",
       "      <td>0.000002</td>\n",
       "      <td>1.000000</td>\n",
       "    </tr>\n",
       "  </tbody>\n",
       "</table>\n",
       "<p>128 rows × 3 columns</p>\n",
       "</div>"
      ],
      "text/plain": [
       "                                features  importance  cumulative_sum\n",
       "0                               int_rate    0.168165        0.168165\n",
       "1                                    dti    0.109677        0.277842\n",
       "2                             annual_inc    0.106555        0.384397\n",
       "3                              loan_amnt    0.095408        0.479805\n",
       "4                   emp_length_10+ years    0.014383        0.494188\n",
       "5           verification_status_Verified    0.014361        0.508549\n",
       "6             purpose_debt_consolidation    0.014104        0.522652\n",
       "7    verification_status_Source_Verified    0.013772        0.536425\n",
       "8                          addr_state_CA    0.012769        0.549194\n",
       "9                    purpose_credit_card    0.011340        0.560534\n",
       "10                   home_ownership_RENT    0.010517        0.571050\n",
       "11               home_ownership_MORTGAGE    0.010400        0.581450\n",
       "12                         addr_state_NY    0.010284        0.591734\n",
       "13                    emp_length_2 years    0.009588        0.601322\n",
       "14                         addr_state_TX    0.009459        0.610781\n",
       "15                         addr_state_FL    0.009444        0.620225\n",
       "16                   emp_length_< 1 year    0.009208        0.629433\n",
       "17                    emp_length_3 years    0.009084        0.638517\n",
       "18                       term__36_months    0.008494        0.647011\n",
       "19                    emp_length_5 years    0.008313        0.655325\n",
       "20                               grade_F    0.008155        0.663480\n",
       "21                    emp_length_4 years    0.008031        0.671511\n",
       "22                               grade_E    0.007999        0.679510\n",
       "23                               grade_D    0.007996        0.687506\n",
       "24                       term__60_months    0.007974        0.695480\n",
       "25                               grade_B    0.007899        0.703379\n",
       "26                    emp_length_7 years    0.007661        0.711039\n",
       "27                    home_ownership_OWN    0.007541        0.718580\n",
       "28                    emp_length_6 years    0.007405        0.725985\n",
       "29                    emp_length_8 years    0.007221        0.733206\n",
       "..                                   ...         ...             ...\n",
       "98                         addr_state_NH    0.001505        0.981651\n",
       "99                          sub_grade_F2    0.001490        0.983141\n",
       "100                        addr_state_RI    0.001449        0.984590\n",
       "101                        purpose_house    0.001439        0.986029\n",
       "102                         sub_grade_F3    0.001279        0.987307\n",
       "103                      purpose_wedding    0.001229        0.988537\n",
       "104                        addr_state_MS    0.001217        0.989754\n",
       "105                        addr_state_DE    0.001105        0.990858\n",
       "106                         sub_grade_F4    0.001091        0.991949\n",
       "107                         sub_grade_F5    0.001067        0.993016\n",
       "108                        addr_state_MT    0.001062        0.994078\n",
       "109                        addr_state_SD    0.000790        0.994868\n",
       "110                        addr_state_WY    0.000786        0.995654\n",
       "111                        addr_state_DC    0.000761        0.996415\n",
       "112                        addr_state_VT    0.000555        0.996970\n",
       "113                         sub_grade_G1    0.000470        0.997440\n",
       "114             purpose_renewable_energy    0.000430        0.997870\n",
       "115                         sub_grade_G2    0.000389        0.998259\n",
       "116                        addr_state_NE    0.000327        0.998586\n",
       "117                         sub_grade_G3    0.000294        0.998880\n",
       "118                  purpose_educational    0.000285        0.999165\n",
       "119                         sub_grade_G5    0.000203        0.999367\n",
       "120                         sub_grade_G4    0.000199        0.999566\n",
       "121                 home_ownership_OTHER    0.000185        0.999752\n",
       "122                        addr_state_ND    0.000109        0.999860\n",
       "123                        addr_state_ME    0.000100        0.999960\n",
       "124                  home_ownership_NONE    0.000022        0.999982\n",
       "125                         pymnt_plan_y    0.000014        0.999996\n",
       "126                        addr_state_IA    0.000002        0.999998\n",
       "127                        addr_state_ID    0.000002        1.000000\n",
       "\n",
       "[128 rows x 3 columns]"
      ]
     },
     "execution_count": 116,
     "metadata": {},
     "output_type": "execute_result"
    }
   ],
   "source": [
    "feature_impt_df = (\n",
    "    pd.DataFrame(rfclf.feature_importances_, index=x.columns, columns=['importance'])\n",
    "    .reset_index()\n",
    "    .rename(columns={\"index\":\"features\"})\n",
    "    .sort_values('importance', ascending=False)\n",
    "    .pipe(lambda x: x.assign(cumulative_sum=x.importance.cumsum()))\n",
    "    .reset_index(drop=True)\n",
    "    )\n",
    "feature_impt_df  "
   ]
  },
  {
   "cell_type": "code",
   "execution_count": 118,
   "metadata": {
    "scrolled": false
   },
   "outputs": [
    {
     "data": {
      "text/html": [
       "<div>\n",
       "<style scoped>\n",
       "    .dataframe tbody tr th:only-of-type {\n",
       "        vertical-align: middle;\n",
       "    }\n",
       "\n",
       "    .dataframe tbody tr th {\n",
       "        vertical-align: top;\n",
       "    }\n",
       "\n",
       "    .dataframe thead th {\n",
       "        text-align: right;\n",
       "    }\n",
       "</style>\n",
       "<table border=\"1\" class=\"dataframe\">\n",
       "  <thead>\n",
       "    <tr style=\"text-align: right;\">\n",
       "      <th></th>\n",
       "      <th>features</th>\n",
       "      <th>importance</th>\n",
       "      <th>cumulative_sum</th>\n",
       "    </tr>\n",
       "  </thead>\n",
       "  <tbody>\n",
       "    <tr>\n",
       "      <th>0</th>\n",
       "      <td>int_rate</td>\n",
       "      <td>0.168165</td>\n",
       "      <td>0.168165</td>\n",
       "    </tr>\n",
       "    <tr>\n",
       "      <th>1</th>\n",
       "      <td>dti</td>\n",
       "      <td>0.109677</td>\n",
       "      <td>0.277842</td>\n",
       "    </tr>\n",
       "    <tr>\n",
       "      <th>2</th>\n",
       "      <td>annual_inc</td>\n",
       "      <td>0.106555</td>\n",
       "      <td>0.384397</td>\n",
       "    </tr>\n",
       "    <tr>\n",
       "      <th>3</th>\n",
       "      <td>loan_amnt</td>\n",
       "      <td>0.095408</td>\n",
       "      <td>0.479805</td>\n",
       "    </tr>\n",
       "    <tr>\n",
       "      <th>4</th>\n",
       "      <td>emp_length_10+ years</td>\n",
       "      <td>0.014383</td>\n",
       "      <td>0.494188</td>\n",
       "    </tr>\n",
       "    <tr>\n",
       "      <th>5</th>\n",
       "      <td>verification_status_Verified</td>\n",
       "      <td>0.014361</td>\n",
       "      <td>0.508549</td>\n",
       "    </tr>\n",
       "    <tr>\n",
       "      <th>6</th>\n",
       "      <td>purpose_debt_consolidation</td>\n",
       "      <td>0.014104</td>\n",
       "      <td>0.522652</td>\n",
       "    </tr>\n",
       "    <tr>\n",
       "      <th>7</th>\n",
       "      <td>verification_status_Source_Verified</td>\n",
       "      <td>0.013772</td>\n",
       "      <td>0.536425</td>\n",
       "    </tr>\n",
       "    <tr>\n",
       "      <th>8</th>\n",
       "      <td>addr_state_CA</td>\n",
       "      <td>0.012769</td>\n",
       "      <td>0.549194</td>\n",
       "    </tr>\n",
       "    <tr>\n",
       "      <th>9</th>\n",
       "      <td>purpose_credit_card</td>\n",
       "      <td>0.011340</td>\n",
       "      <td>0.560534</td>\n",
       "    </tr>\n",
       "    <tr>\n",
       "      <th>10</th>\n",
       "      <td>home_ownership_RENT</td>\n",
       "      <td>0.010517</td>\n",
       "      <td>0.571050</td>\n",
       "    </tr>\n",
       "    <tr>\n",
       "      <th>11</th>\n",
       "      <td>home_ownership_MORTGAGE</td>\n",
       "      <td>0.010400</td>\n",
       "      <td>0.581450</td>\n",
       "    </tr>\n",
       "    <tr>\n",
       "      <th>12</th>\n",
       "      <td>addr_state_NY</td>\n",
       "      <td>0.010284</td>\n",
       "      <td>0.591734</td>\n",
       "    </tr>\n",
       "    <tr>\n",
       "      <th>13</th>\n",
       "      <td>emp_length_2 years</td>\n",
       "      <td>0.009588</td>\n",
       "      <td>0.601322</td>\n",
       "    </tr>\n",
       "    <tr>\n",
       "      <th>14</th>\n",
       "      <td>addr_state_TX</td>\n",
       "      <td>0.009459</td>\n",
       "      <td>0.610781</td>\n",
       "    </tr>\n",
       "    <tr>\n",
       "      <th>15</th>\n",
       "      <td>addr_state_FL</td>\n",
       "      <td>0.009444</td>\n",
       "      <td>0.620225</td>\n",
       "    </tr>\n",
       "    <tr>\n",
       "      <th>16</th>\n",
       "      <td>emp_length_&lt; 1 year</td>\n",
       "      <td>0.009208</td>\n",
       "      <td>0.629433</td>\n",
       "    </tr>\n",
       "    <tr>\n",
       "      <th>17</th>\n",
       "      <td>emp_length_3 years</td>\n",
       "      <td>0.009084</td>\n",
       "      <td>0.638517</td>\n",
       "    </tr>\n",
       "    <tr>\n",
       "      <th>18</th>\n",
       "      <td>term__36_months</td>\n",
       "      <td>0.008494</td>\n",
       "      <td>0.647011</td>\n",
       "    </tr>\n",
       "    <tr>\n",
       "      <th>19</th>\n",
       "      <td>emp_length_5 years</td>\n",
       "      <td>0.008313</td>\n",
       "      <td>0.655325</td>\n",
       "    </tr>\n",
       "    <tr>\n",
       "      <th>20</th>\n",
       "      <td>grade_F</td>\n",
       "      <td>0.008155</td>\n",
       "      <td>0.663480</td>\n",
       "    </tr>\n",
       "    <tr>\n",
       "      <th>21</th>\n",
       "      <td>emp_length_4 years</td>\n",
       "      <td>0.008031</td>\n",
       "      <td>0.671511</td>\n",
       "    </tr>\n",
       "    <tr>\n",
       "      <th>22</th>\n",
       "      <td>grade_E</td>\n",
       "      <td>0.007999</td>\n",
       "      <td>0.679510</td>\n",
       "    </tr>\n",
       "    <tr>\n",
       "      <th>23</th>\n",
       "      <td>grade_D</td>\n",
       "      <td>0.007996</td>\n",
       "      <td>0.687506</td>\n",
       "    </tr>\n",
       "    <tr>\n",
       "      <th>24</th>\n",
       "      <td>term__60_months</td>\n",
       "      <td>0.007974</td>\n",
       "      <td>0.695480</td>\n",
       "    </tr>\n",
       "    <tr>\n",
       "      <th>25</th>\n",
       "      <td>grade_B</td>\n",
       "      <td>0.007899</td>\n",
       "      <td>0.703379</td>\n",
       "    </tr>\n",
       "  </tbody>\n",
       "</table>\n",
       "</div>"
      ],
      "text/plain": [
       "                               features  importance  cumulative_sum\n",
       "0                              int_rate    0.168165        0.168165\n",
       "1                                   dti    0.109677        0.277842\n",
       "2                            annual_inc    0.106555        0.384397\n",
       "3                             loan_amnt    0.095408        0.479805\n",
       "4                  emp_length_10+ years    0.014383        0.494188\n",
       "5          verification_status_Verified    0.014361        0.508549\n",
       "6            purpose_debt_consolidation    0.014104        0.522652\n",
       "7   verification_status_Source_Verified    0.013772        0.536425\n",
       "8                         addr_state_CA    0.012769        0.549194\n",
       "9                   purpose_credit_card    0.011340        0.560534\n",
       "10                  home_ownership_RENT    0.010517        0.571050\n",
       "11              home_ownership_MORTGAGE    0.010400        0.581450\n",
       "12                        addr_state_NY    0.010284        0.591734\n",
       "13                   emp_length_2 years    0.009588        0.601322\n",
       "14                        addr_state_TX    0.009459        0.610781\n",
       "15                        addr_state_FL    0.009444        0.620225\n",
       "16                  emp_length_< 1 year    0.009208        0.629433\n",
       "17                   emp_length_3 years    0.009084        0.638517\n",
       "18                      term__36_months    0.008494        0.647011\n",
       "19                   emp_length_5 years    0.008313        0.655325\n",
       "20                              grade_F    0.008155        0.663480\n",
       "21                   emp_length_4 years    0.008031        0.671511\n",
       "22                              grade_E    0.007999        0.679510\n",
       "23                              grade_D    0.007996        0.687506\n",
       "24                      term__60_months    0.007974        0.695480\n",
       "25                              grade_B    0.007899        0.703379"
      ]
     },
     "execution_count": 118,
     "metadata": {},
     "output_type": "execute_result"
    }
   ],
   "source": [
    "shortlisted_features_df = feature_impt_df.query(\"importance >= 1/129\")\n",
    "shortlisted_features_df"
   ]
  },
  {
   "cell_type": "markdown",
   "metadata": {},
   "source": [
    "I have used random forest to determine feature importance.\n",
    "\n",
    "Since there are 129 features, a feature would be given a 0.00775(1/129) importance score on average. As such, the above dataframe is a filter that shows us features that are above the average score and it is ranked by feature importance, where the first feature is the most important\n",
    "\n",
    "We can see that 25 features are selected. The end result may not be very intiutive from a business point of view as there are too many one-hot encoded features.\n",
    "\n",
    "I will attempt to reduce the number of one-hot encoded features while maintaining the model performance."
   ]
  },
  {
   "cell_type": "markdown",
   "metadata": {},
   "source": [
    "# Data Cleaning and Transformation Part 2"
   ]
  },
  {
   "cell_type": "code",
   "execution_count": 119,
   "metadata": {
    "collapsed": true
   },
   "outputs": [],
   "source": [
    "# converting grade and sub_grade into continuous variable\n",
    "grade_dict = {\"A\":1.0, \"B\":2.0, \"C\":3.0, \"D\":4.0, \"E\":5.0, \"F\":6.0, \"G\":7.0}\n",
    "sub_grade_dict = {\n",
    "    \"A1\":1.0, \"A2\":1.2, \"A3\":1.4, \"A4\":1.6, \"A5\":1.8,\n",
    "    \"B1\":2.0, \"B2\":2.2, \"B3\":2.4, \"B4\":2.6, \"B5\":2.8,\n",
    "    \"C1\":3.0, \"C2\":3.2, \"C3\":3.4, \"C4\":3.6, \"C5\":3.8,\n",
    "    \"D1\":4.0, \"D2\":4.2, \"D3\":4.4, \"D4\":4.6, \"D5\":4.8,\n",
    "    \"E1\":5.0, \"E2\":5.2, \"E3\":5.4, \"E4\":5.6, \"E5\":5.8,\n",
    "    \"F1\":6.0, \"F2\":6.2, \"F3\":6.4, \"F4\":6.6, \"F5\":6.8,\n",
    "    \"G1\":7.0, \"G2\":7.2, \"G3\":7.4, \"G4\":7.6, \"G5\":7.8\n",
    "    }\n",
    "emp_length_dict={\n",
    "    \"10+ years\":10, \"< 1 year\":0, \"1 year\":1, \"2 years\":2, \"3 years\":3,\n",
    "    \"4 years\":4, \"5 years\":5, \"6 years\":6, \"7 years\":7, \"8 years\":8, \"9 years\":9\n",
    "    }"
   ]
  },
  {
   "cell_type": "code",
   "execution_count": 120,
   "metadata": {},
   "outputs": [],
   "source": [
    "df_transform_2 = df_transform\n",
    "df_transform_2['grade'] = [grade_dict[i] for i in df_transform_2['grade']]\n",
    "df_transform_2['sub_grade'] = [sub_grade_dict[i] for i in df_transform_2['sub_grade']]  \n",
    "df_transform_2['emp_length'] = [emp_length_dict[i] if i != 'blank' else np.nan for i in df_transform_2['emp_length']]"
   ]
  },
  {
   "cell_type": "code",
   "execution_count": 121,
   "metadata": {},
   "outputs": [
    {
     "data": {
      "text/plain": [
       "count    825262.000000\n",
       "mean          6.009078\n",
       "std           3.665247\n",
       "min           0.000000\n",
       "25%           3.000000\n",
       "50%           6.000000\n",
       "75%          10.000000\n",
       "max          10.000000\n",
       "Name: emp_length, dtype: float64"
      ]
     },
     "execution_count": 121,
     "metadata": {},
     "output_type": "execute_result"
    }
   ],
   "source": [
    "df_transform_2['emp_length'].describe()"
   ]
  },
  {
   "cell_type": "code",
   "execution_count": 122,
   "metadata": {},
   "outputs": [],
   "source": [
    "# replacing null values in emp_length with its median value\n",
    "df_transform_2['emp_length'].fillna(6, inplace=True)"
   ]
  },
  {
   "cell_type": "code",
   "execution_count": 123,
   "metadata": {},
   "outputs": [
    {
     "data": {
      "image/png": "[encoded data removed]",
      "text/plain": [
       "<matplotlib.figure.Figure at 0x1cd03d9d68>"
      ]
     },
     "metadata": {},
     "output_type": "display_data"
    }
   ],
   "source": [
    "# plotting a heatmap of a correlation matrix of all the continuous features\n",
    "cont_feature_df = df_transform_2[['loan_amnt', 'int_rate', 'funded_amnt', 'funded_amnt_inv', 'installment', 'annual_inc', 'dti', 'grade', 'sub_grade', 'emp_length']]\n",
    "\n",
    "_ = plt.subplots(figsize = (12,7))\n",
    "\n",
    "corr = cont_feature_df.corr()\n",
    "\n",
    "mask = np.zeros_like(corr, dtype=np.bool)\n",
    "mask[np.triu_indices_from(mask)] = True\n",
    "\n",
    "cmap = sns.diverging_palette(600, 20, as_cmap=True)\n",
    "\n",
    "_ = sns.heatmap(corr, mask=mask, annot=True, cmap =cmap)"
   ]
  },
  {
   "cell_type": "markdown",
   "metadata": {},
   "source": [
    "Since interest rate, grade and sub_grade are highly correlated, we will be removing two of them. However, which two should we be removing?"
   ]
  },
  {
   "cell_type": "code",
   "execution_count": 124,
   "metadata": {},
   "outputs": [
    {
     "data": {
      "image/png": "[encoded data removed]",
      "text/plain": [
       "<matplotlib.figure.Figure at 0x1cc415df28>"
      ]
     },
     "metadata": {},
     "output_type": "display_data"
    }
   ],
   "source": [
    "grade_explore = (\n",
    "    df_transform_2\n",
    "    [['int_rate', 'grade']]\n",
    "    .groupby(\"grade\")\n",
    "    .agg({\"int_rate\": \"mean\"})\n",
    "    .reset_index()\n",
    ")\n",
    "_ = sns.barplot(x='grade', y='int_rate', data=grade_explore, color='royalblue')"
   ]
  },
  {
   "cell_type": "markdown",
   "metadata": {},
   "source": [
    "There appears to be some anomaly in the data as the average interest rate of grade F (6.0) is similar to the average interest rate of grade C (3.0)"
   ]
  },
  {
   "cell_type": "code",
   "execution_count": 125,
   "metadata": {
    "scrolled": false
   },
   "outputs": [
    {
     "data": {
      "image/png": "[encoded data removed]",
      "text/plain": [
       "<matplotlib.figure.Figure at 0x1cc43e0550>"
      ]
     },
     "metadata": {},
     "output_type": "display_data"
    }
   ],
   "source": [
    "# plotting the frequency distribution of interest rate of each grade\n",
    "_ = plt.figure(figsize=(20,15))\n",
    "for idx, g in enumerate(sorted(df_transform_2.grade.unique())):\n",
    "    start_subplot = 331\n",
    "    _ = plt.subplot(start_subplot + idx, )\n",
    "    _ = sns.distplot(df_transform_2.query(\"grade=={}\".format(g)).int_rate)\n",
    "    _ = plt.xticks(np.linspace(0,30,5))\n",
    "    _ = plt.title('Frequency distribution of interest rate (grade ' + str(g) + ')')"
   ]
  },
  {
   "cell_type": "markdown",
   "metadata": {},
   "source": [
    "From the graphs above, we can see that there are some errerroneous data in grade F (6.0). Half of grade F loans have interest rate less than 7.5% which is an anomaly. Due to an interest of time I will drop these rows as instead of conducting further analysis as I would still retain ~10k rows of grade F loans which will suffice during modelling stage"
   ]
  },
  {
   "cell_type": "code",
   "execution_count": 126,
   "metadata": {},
   "outputs": [],
   "source": [
    "index_to_drop = df_transform_2.query(\"grade==6 and int_rate <= 7.5\").index.values\n",
    "df_clean_2 = (\n",
    "    df_transform_2.\n",
    "    drop(index_to_drop, axis=0)\n",
    "    .reset_index()\n",
    "    )"
   ]
  },
  {
   "cell_type": "code",
   "execution_count": 127,
   "metadata": {},
   "outputs": [
    {
     "data": {
      "image/png": "[encoded data removed]",
      "text/plain": [
       "<matplotlib.figure.Figure at 0x1cc57800b8>"
      ]
     },
     "metadata": {},
     "output_type": "display_data"
    }
   ],
   "source": [
    "# re-plotting the bar chart showing the relationship between interest rate and grade\n",
    "grade_explore = (\n",
    "    df_clean_2\n",
    "    [['int_rate', 'grade']]\n",
    "    .groupby(\"grade\")\n",
    "    .agg({\"int_rate\": \"mean\"})\n",
    "    .reset_index()\n",
    ")\n",
    "_ = sns.barplot(x='grade', y='int_rate', data=grade_explore, color='royalblue')\n",
    "_ = plt.title('Average interest rate of each loan grade')"
   ]
  },
  {
   "cell_type": "code",
   "execution_count": 128,
   "metadata": {},
   "outputs": [
    {
     "data": {
      "image/png": "[encoded data removed]",
      "text/plain": [
       "<matplotlib.figure.Figure at 0x1cc7ef72b0>"
      ]
     },
     "metadata": {},
     "output_type": "display_data"
    }
   ],
   "source": [
    "# plotting bar chart showing the relationship between interest rate and sub_grade\n",
    "sub_grade_explore = (\n",
    "    df_clean_2\n",
    "    [['int_rate', 'sub_grade']]\n",
    "    .groupby(\"sub_grade\")\n",
    "    .agg({\"int_rate\": \"mean\"})\n",
    "    .reset_index()\n",
    ")\n",
    "_ = plt.figure(figsize=(10,6))\n",
    "_ = sns.barplot(x='sub_grade', y='int_rate', data=sub_grade_explore, color='royalblue')\n",
    "_ = plt.title('Average interest rate of each sub_grade')\n",
    "_ = plt.xticks(rotation=75, fontsize='10')"
   ]
  },
  {
   "cell_type": "markdown",
   "metadata": {},
   "source": [
    "From the correlation heatmap plot, we can see that interest rate has a high correlation with grade and sub_grade. As such, we can remove 2 of the three features in our model.\n",
    "\n",
    "From the grade bar chart, we can see that there is an obvious difference in interet rate between each grade. Whereas from the sub_grade bar chart we can see that interest rate can be hardly differeniated at the tail end of the sub_grade list (G1 to G5). As such I will retain sub_grade and remove grade and interest rate in my model."
   ]
  },
  {
   "cell_type": "code",
   "execution_count": 129,
   "metadata": {},
   "outputs": [
    {
     "data": {
      "text/plain": [
       "Index(['index', 'member_id', 'loan_amnt', 'funded_amnt', 'funded_amnt_inv',\n",
       "       'int_rate', 'installment', 'grade', 'sub_grade', 'emp_title',\n",
       "       'emp_length', 'home_ownership', 'annual_inc', 'verification_status',\n",
       "       'issue_d', 'loan_status', 'url', 'desc', 'purpose', 'title', 'zip_code',\n",
       "       'addr_state', 'dti', 'term', 'pymnt_plan', 'year', 'target'],\n",
       "      dtype='object')"
      ]
     },
     "execution_count": 129,
     "metadata": {},
     "output_type": "execute_result"
    }
   ],
   "source": [
    "df_transform_2 = df_clean_2\n",
    "df_transform_2.columns"
   ]
  },
  {
   "cell_type": "code",
   "execution_count": 130,
   "metadata": {},
   "outputs": [],
   "source": [
    "df_model_2 = df_transform_2[['loan_amnt', 'sub_grade', 'emp_length', 'home_ownership', 'annual_inc', 'verification_status', \\\n",
    "                             'purpose', 'addr_state', 'dti', 'term', 'pymnt_plan', 'target']]\n",
    "\n",
    "cat_feature_list = ['home_ownership', 'verification_status', 'purpose', 'addr_state', 'term', 'pymnt_plan']\n",
    "cont_feature_list = ['loan_amnt', 'sub_grade', 'emp_length', 'annual_inc', 'dti']"
   ]
  },
  {
   "cell_type": "code",
   "execution_count": 131,
   "metadata": {
    "scrolled": false
   },
   "outputs": [],
   "source": [
    "# applying one-hot encoding to my categorical features\n",
    "df_model_2 = pd.get_dummies(df_model_2, columns=[i for i in cat_feature_list], prefix=[i for i in cat_feature_list], drop_first=True)"
   ]
  },
  {
   "cell_type": "code",
   "execution_count": 132,
   "metadata": {},
   "outputs": [
    {
     "data": {
      "text/plain": [
       "Index(['loan_amnt', 'sub_grade', 'emp_length', 'annual_inc', 'dti', 'target',\n",
       "       'home_ownership_MORTGAGE', 'home_ownership_NONE',\n",
       "       'home_ownership_OTHER', 'home_ownership_OWN', 'home_ownership_RENT',\n",
       "       'verification_status_Source_Verified', 'verification_status_Verified',\n",
       "       'purpose_credit_card', 'purpose_debt_consolidation',\n",
       "       'purpose_educational', 'purpose_home_improvement', 'purpose_house',\n",
       "       'purpose_major_purchase', 'purpose_medical', 'purpose_moving',\n",
       "       'purpose_other', 'purpose_renewable_energy', 'purpose_small_business',\n",
       "       'purpose_vacation', 'purpose_wedding', 'addr_state_AL', 'addr_state_AR',\n",
       "       'addr_state_AZ', 'addr_state_CA', 'addr_state_CO', 'addr_state_CT',\n",
       "       'addr_state_DC', 'addr_state_DE', 'addr_state_FL', 'addr_state_GA',\n",
       "       'addr_state_HI', 'addr_state_IA', 'addr_state_ID', 'addr_state_IL',\n",
       "       'addr_state_IN', 'addr_state_KS', 'addr_state_KY', 'addr_state_LA',\n",
       "       'addr_state_MA', 'addr_state_MD', 'addr_state_ME', 'addr_state_MI',\n",
       "       'addr_state_MN', 'addr_state_MO', 'addr_state_MS', 'addr_state_MT',\n",
       "       'addr_state_NC', 'addr_state_ND', 'addr_state_NE', 'addr_state_NH',\n",
       "       'addr_state_NJ', 'addr_state_NM', 'addr_state_NV', 'addr_state_NY',\n",
       "       'addr_state_OH', 'addr_state_OK', 'addr_state_OR', 'addr_state_PA',\n",
       "       'addr_state_RI', 'addr_state_SC', 'addr_state_SD', 'addr_state_TN',\n",
       "       'addr_state_TX', 'addr_state_UT', 'addr_state_VA', 'addr_state_VT',\n",
       "       'addr_state_WA', 'addr_state_WI', 'addr_state_WV', 'addr_state_WY',\n",
       "       'term__36_months', 'term__60_months', 'pymnt_plan_y'],\n",
       "      dtype='object')"
      ]
     },
     "execution_count": 132,
     "metadata": {},
     "output_type": "execute_result"
    }
   ],
   "source": [
    "df_model_2.columns"
   ]
  },
  {
   "cell_type": "code",
   "execution_count": 133,
   "metadata": {},
   "outputs": [
    {
     "data": {
      "text/plain": [
       "(859145, 79)"
      ]
     },
     "execution_count": 133,
     "metadata": {},
     "output_type": "execute_result"
    }
   ],
   "source": [
    "df_model_2.shape"
   ]
  },
  {
   "cell_type": "code",
   "execution_count": 134,
   "metadata": {},
   "outputs": [],
   "source": [
    "# calculating the proportion of 1s in my one-hot encoded categorical features\n",
    "pctg_of_1s_in_cat_feature_dict = {}\n",
    "one_hot_encoding_feature_list = [i for i in df_model_2.columns if i not in cont_feature_list and i != 'target']\n",
    "for i in one_hot_encoding_feature_list:\n",
    "    pctg_of_1s_in_cat_feature_dict[i] = df_model_2.query(\"{} == 1\".format(i)).shape[0]/df_model_2.shape[0] * 100"
   ]
  },
  {
   "cell_type": "code",
   "execution_count": 152,
   "metadata": {},
   "outputs": [
    {
     "data": {
      "image/png": "[encoded data removed]",
      "text/plain": [
       "<matplotlib.figure.Figure at 0x1cfc8cfcc0>"
      ]
     },
     "metadata": {},
     "output_type": "display_data"
    }
   ],
   "source": [
    "pctg_of_1s_in_cat_feature_df = (\n",
    "    pd.DataFrame(list(pctg_of_1s_in_cat_feature_dict.items()), columns=['features', 'pctg_of_1s'])\n",
    "    .sort_values('pctg_of_1s')\n",
    "    )\n",
    "\n",
    "_ = plt.figure(figsize=(20,15))\n",
    "_ = sns.barplot(x='pctg_of_1s', y='features', data=pctg_of_1s_in_cat_feature_df, color='royalblue', orient=\"h\")\n",
    "_ = plt.title(\"Percentage of 1s in column\")"
   ]
  },
  {
   "cell_type": "markdown",
   "metadata": {},
   "source": [
    "The chart above shows us the percentage of 1's of all the one-hot encoded features.\n",
    "\n",
    "If a feature has too many rows of the same value, the coefficient of that feature would not give us much information because it would be bias towards dominant value. \n",
    "\n",
    "As such, I will remove features that are 90% filled with the same value"
   ]
  },
  {
   "cell_type": "code",
   "execution_count": 136,
   "metadata": {},
   "outputs": [
    {
     "data": {
      "text/plain": [
       "array(['addr_state_CA', 'purpose_credit_card', 'term__60_months',\n",
       "       'verification_status_Verified',\n",
       "       'verification_status_Source_Verified', 'home_ownership_RENT',\n",
       "       'home_ownership_MORTGAGE', 'purpose_debt_consolidation',\n",
       "       'term__36_months'], dtype=object)"
      ]
     },
     "execution_count": 136,
     "metadata": {},
     "output_type": "execute_result"
    }
   ],
   "source": [
    "pctg_of_1s_in_cat_feature_df.query(\"pctg_of_1s >= 10 and pctg_of_1s <= 90\").features.unique()"
   ]
  },
  {
   "cell_type": "code",
   "execution_count": 137,
   "metadata": {},
   "outputs": [
    {
     "data": {
      "text/plain": [
       "['loan_amnt', 'sub_grade', 'emp_length', 'annual_inc', 'dti']"
      ]
     },
     "execution_count": 137,
     "metadata": {},
     "output_type": "execute_result"
    }
   ],
   "source": [
    "cont_feature_list"
   ]
  },
  {
   "cell_type": "code",
   "execution_count": 138,
   "metadata": {},
   "outputs": [],
   "source": [
    "df_model_2 = df_model_2[['loan_amnt', 'sub_grade', 'emp_length', 'annual_inc', 'dti',\\\n",
    "                        'addr_state_CA', 'purpose_credit_card', 'term__60_months','verification_status_Verified', \\\n",
    "                        'verification_status_Source_Verified', 'home_ownership_RENT','home_ownership_MORTGAGE', \\\n",
    "                        'purpose_debt_consolidation','term__36_months', 'target']]"
   ]
  },
  {
   "cell_type": "code",
   "execution_count": 139,
   "metadata": {},
   "outputs": [
    {
     "data": {
      "text/plain": [
       "(859145, 15)"
      ]
     },
     "execution_count": 139,
     "metadata": {},
     "output_type": "execute_result"
    }
   ],
   "source": [
    "df_model_2.shape"
   ]
  },
  {
   "cell_type": "code",
   "execution_count": 140,
   "metadata": {
    "collapsed": true
   },
   "outputs": [],
   "source": [
    "df_model_2 = under_sampling_good_loans(df_model_2)\n",
    "\n",
    "x = df_model_2[[i for i in df_model_2.columns if i != 'target']]\n",
    "y = df_model_2['target']\n",
    "\n",
    "# split data train 70 % and test 30 %\n",
    "x_train, x_test, y_train, y_test = train_test_split(x, y, test_size=0.3, random_state=13)\n",
    "\n",
    "# using min-max scaler so that my data will be within 1 and 0\n",
    "x_mm_train = mm.fit_transform(x_train)\n",
    "x_mm_test = mm.transform(x_test)"
   ]
  },
  {
   "cell_type": "code",
   "execution_count": 69,
   "metadata": {},
   "outputs": [
    {
     "name": "stdout",
     "output_type": "stream",
     "text": [
      "Fitting 3 folds for each of 15 candidates, totalling 45 fits\n"
     ]
    },
    {
     "name": "stderr",
     "output_type": "stream",
     "text": [
      "[Parallel(n_jobs=-1)]: Done  45 out of  45 | elapsed:   49.4s finished\n"
     ]
    },
    {
     "data": {
      "text/plain": [
       "GridSearchCV(cv=3, error_score='raise',\n",
       "       estimator=RandomForestClassifier(bootstrap=True, class_weight=None, criterion='gini',\n",
       "            max_depth=None, max_features='auto', max_leaf_nodes=None,\n",
       "            min_impurity_decrease=0.0, min_impurity_split=None,\n",
       "            min_samples_leaf=1, min_samples_split=2,\n",
       "            min_weight_fraction_leaf=0.0, n_estimators=10, n_jobs=1,\n",
       "            oob_score=False, random_state=None, verbose=0,\n",
       "            warm_start=False),\n",
       "       fit_params=None, iid=True, n_jobs=-1,\n",
       "       param_grid={'max_depth': array([ 1,  8, 15]), 'n_estimators': array([ 10,  32,  55,  77, 100]), 'random_state': [13]},\n",
       "       pre_dispatch='2*n_jobs', refit=True, return_train_score='warn',\n",
       "       scoring=None, verbose=1)"
      ]
     },
     "execution_count": 69,
     "metadata": {},
     "output_type": "execute_result"
    }
   ],
   "source": [
    "gs_params ={\n",
    "    'max_depth': np.linspace(1,15,3,dtype=int),\n",
    "    'n_estimators':np.linspace(10,100,5,dtype=int),\n",
    "    'random_state':[13]\n",
    "}\n",
    "\n",
    "rclf_gs = GridSearchCV(RandomForestClassifier(), gs_params, n_jobs = -1, verbose = 1, cv = 3)\n",
    "\n",
    "rclf_gs.fit(x_mm_train, y_train)"
   ]
  },
  {
   "cell_type": "code",
   "execution_count": 70,
   "metadata": {},
   "outputs": [
    {
     "data": {
      "text/plain": [
       "RandomForestClassifier(bootstrap=True, class_weight=None, criterion='gini',\n",
       "            max_depth=8, max_features='auto', max_leaf_nodes=None,\n",
       "            min_impurity_decrease=0.0, min_impurity_split=None,\n",
       "            min_samples_leaf=1, min_samples_split=2,\n",
       "            min_weight_fraction_leaf=0.0, n_estimators=77, n_jobs=1,\n",
       "            oob_score=False, random_state=13, verbose=0, warm_start=False)"
      ]
     },
     "execution_count": 70,
     "metadata": {},
     "output_type": "execute_result"
    }
   ],
   "source": [
    "rclf_gs.best_estimator_"
   ]
  },
  {
   "cell_type": "code",
   "execution_count": 141,
   "metadata": {},
   "outputs": [
    {
     "name": "stderr",
     "output_type": "stream",
     "text": [
      "[Parallel(n_jobs=-1)]: Done  42 tasks      | elapsed:    0.8s\n",
      "[Parallel(n_jobs=-1)]: Done  77 out of  77 | elapsed:    1.5s finished\n"
     ]
    },
    {
     "data": {
      "text/plain": [
       "RandomForestClassifier(bootstrap=True, class_weight=None, criterion='gini',\n",
       "            max_depth=8, max_features='auto', max_leaf_nodes=None,\n",
       "            min_impurity_decrease=0.0, min_impurity_split=None,\n",
       "            min_samples_leaf=1, min_samples_split=2,\n",
       "            min_weight_fraction_leaf=0.0, n_estimators=77, n_jobs=-1,\n",
       "            oob_score=False, random_state=13, verbose=1, warm_start=False)"
      ]
     },
     "execution_count": 141,
     "metadata": {},
     "output_type": "execute_result"
    }
   ],
   "source": [
    "rfclf = RandomForestClassifier(bootstrap=True, class_weight=None, criterion='gini',\n",
    "            max_depth=8, max_features='auto', max_leaf_nodes=None,\n",
    "            min_impurity_decrease=0.0, min_impurity_split=None,\n",
    "            min_samples_leaf=1, min_samples_split=2,\n",
    "            min_weight_fraction_leaf=0.0, n_estimators=77, n_jobs=-1,\n",
    "            oob_score=False, random_state=13, verbose=1, warm_start=False)\n",
    "\n",
    "rfclf.fit(x_mm_train, y_train)"
   ]
  },
  {
   "cell_type": "code",
   "execution_count": 143,
   "metadata": {},
   "outputs": [
    {
     "name": "stderr",
     "output_type": "stream",
     "text": [
      "[Parallel(n_jobs=4)]: Done  42 tasks      | elapsed:    0.1s\n",
      "[Parallel(n_jobs=4)]: Done  77 out of  77 | elapsed:    0.1s finished\n",
      "[Parallel(n_jobs=4)]: Done  42 tasks      | elapsed:    0.1s\n",
      "[Parallel(n_jobs=4)]: Done  77 out of  77 | elapsed:    0.1s finished\n"
     ]
    },
    {
     "data": {
      "text/html": [
       "<div>\n",
       "<style scoped>\n",
       "    .dataframe tbody tr th:only-of-type {\n",
       "        vertical-align: middle;\n",
       "    }\n",
       "\n",
       "    .dataframe tbody tr th {\n",
       "        vertical-align: top;\n",
       "    }\n",
       "\n",
       "    .dataframe thead th {\n",
       "        text-align: right;\n",
       "    }\n",
       "</style>\n",
       "<table border=\"1\" class=\"dataframe\">\n",
       "  <thead>\n",
       "    <tr style=\"text-align: right;\">\n",
       "      <th></th>\n",
       "      <th>rf_all_features</th>\n",
       "      <th>rf_reduced_features</th>\n",
       "    </tr>\n",
       "  </thead>\n",
       "  <tbody>\n",
       "    <tr>\n",
       "      <th>model score</th>\n",
       "      <td>0.667950</td>\n",
       "      <td>0.630858</td>\n",
       "    </tr>\n",
       "    <tr>\n",
       "      <th>precision score</th>\n",
       "      <td>0.679116</td>\n",
       "      <td>0.636698</td>\n",
       "    </tr>\n",
       "    <tr>\n",
       "      <th>recall score</th>\n",
       "      <td>0.627907</td>\n",
       "      <td>0.594222</td>\n",
       "    </tr>\n",
       "    <tr>\n",
       "      <th>f1 score</th>\n",
       "      <td>0.652508</td>\n",
       "      <td>0.614727</td>\n",
       "    </tr>\n",
       "    <tr>\n",
       "      <th>auc</th>\n",
       "      <td>0.667671</td>\n",
       "      <td>0.630538</td>\n",
       "    </tr>\n",
       "  </tbody>\n",
       "</table>\n",
       "</div>"
      ],
      "text/plain": [
       "                 rf_all_features  rf_reduced_features\n",
       "model score             0.667950             0.630858\n",
       "precision score         0.679116             0.636698\n",
       "recall score            0.627907             0.594222\n",
       "f1 score                0.652508             0.614727\n",
       "auc                     0.667671             0.630538"
      ]
     },
     "execution_count": 143,
     "metadata": {},
     "output_type": "execute_result"
    }
   ],
   "source": [
    "model_score_2, model_precision_2, model_recall_2, model_f1_2, model_auc_2 = model_perf(rfclf, x_mm_test, y_test)\n",
    "model_perf_df = pd.DataFrame({'rf_all_features':[model_score, model_precision, model_recall, model_f1, model_auc],\n",
    "                             'rf_reduced_features': [model_score_2, model_precision_2, model_recall_2, model_f1_2, model_auc_2]},\n",
    "                      index = ['model score','precision score','recall score','f1 score', 'auc'])\n",
    "model_perf_df"
   ]
  },
  {
   "cell_type": "code",
   "execution_count": 144,
   "metadata": {},
   "outputs": [
    {
     "data": {
      "text/html": [
       "<div>\n",
       "<style scoped>\n",
       "    .dataframe tbody tr th:only-of-type {\n",
       "        vertical-align: middle;\n",
       "    }\n",
       "\n",
       "    .dataframe tbody tr th {\n",
       "        vertical-align: top;\n",
       "    }\n",
       "\n",
       "    .dataframe thead th {\n",
       "        text-align: right;\n",
       "    }\n",
       "</style>\n",
       "<table border=\"1\" class=\"dataframe\">\n",
       "  <thead>\n",
       "    <tr style=\"text-align: right;\">\n",
       "      <th></th>\n",
       "      <th>features</th>\n",
       "      <th>importance</th>\n",
       "      <th>cumulative_sum</th>\n",
       "    </tr>\n",
       "  </thead>\n",
       "  <tbody>\n",
       "    <tr>\n",
       "      <th>0</th>\n",
       "      <td>sub_grade</td>\n",
       "      <td>0.570812</td>\n",
       "      <td>0.570812</td>\n",
       "    </tr>\n",
       "    <tr>\n",
       "      <th>1</th>\n",
       "      <td>annual_inc</td>\n",
       "      <td>0.113106</td>\n",
       "      <td>0.683918</td>\n",
       "    </tr>\n",
       "    <tr>\n",
       "      <th>2</th>\n",
       "      <td>dti</td>\n",
       "      <td>0.057790</td>\n",
       "      <td>0.741709</td>\n",
       "    </tr>\n",
       "    <tr>\n",
       "      <th>3</th>\n",
       "      <td>verification_status_Verified</td>\n",
       "      <td>0.052740</td>\n",
       "      <td>0.794449</td>\n",
       "    </tr>\n",
       "    <tr>\n",
       "      <th>4</th>\n",
       "      <td>loan_amnt</td>\n",
       "      <td>0.050128</td>\n",
       "      <td>0.844577</td>\n",
       "    </tr>\n",
       "    <tr>\n",
       "      <th>5</th>\n",
       "      <td>purpose_credit_card</td>\n",
       "      <td>0.033116</td>\n",
       "      <td>0.877693</td>\n",
       "    </tr>\n",
       "    <tr>\n",
       "      <th>6</th>\n",
       "      <td>term__36_months</td>\n",
       "      <td>0.024531</td>\n",
       "      <td>0.902224</td>\n",
       "    </tr>\n",
       "    <tr>\n",
       "      <th>7</th>\n",
       "      <td>home_ownership_RENT</td>\n",
       "      <td>0.022185</td>\n",
       "      <td>0.924409</td>\n",
       "    </tr>\n",
       "    <tr>\n",
       "      <th>8</th>\n",
       "      <td>emp_length</td>\n",
       "      <td>0.017985</td>\n",
       "      <td>0.942394</td>\n",
       "    </tr>\n",
       "    <tr>\n",
       "      <th>9</th>\n",
       "      <td>verification_status_Source_Verified</td>\n",
       "      <td>0.017878</td>\n",
       "      <td>0.960272</td>\n",
       "    </tr>\n",
       "    <tr>\n",
       "      <th>10</th>\n",
       "      <td>term__60_months</td>\n",
       "      <td>0.016771</td>\n",
       "      <td>0.977043</td>\n",
       "    </tr>\n",
       "    <tr>\n",
       "      <th>11</th>\n",
       "      <td>home_ownership_MORTGAGE</td>\n",
       "      <td>0.013642</td>\n",
       "      <td>0.990684</td>\n",
       "    </tr>\n",
       "    <tr>\n",
       "      <th>12</th>\n",
       "      <td>purpose_debt_consolidation</td>\n",
       "      <td>0.004687</td>\n",
       "      <td>0.995371</td>\n",
       "    </tr>\n",
       "    <tr>\n",
       "      <th>13</th>\n",
       "      <td>addr_state_CA</td>\n",
       "      <td>0.004629</td>\n",
       "      <td>1.000000</td>\n",
       "    </tr>\n",
       "  </tbody>\n",
       "</table>\n",
       "</div>"
      ],
      "text/plain": [
       "                               features  importance  cumulative_sum\n",
       "0                             sub_grade    0.570812        0.570812\n",
       "1                            annual_inc    0.113106        0.683918\n",
       "2                                   dti    0.057790        0.741709\n",
       "3          verification_status_Verified    0.052740        0.794449\n",
       "4                             loan_amnt    0.050128        0.844577\n",
       "5                   purpose_credit_card    0.033116        0.877693\n",
       "6                       term__36_months    0.024531        0.902224\n",
       "7                   home_ownership_RENT    0.022185        0.924409\n",
       "8                            emp_length    0.017985        0.942394\n",
       "9   verification_status_Source_Verified    0.017878        0.960272\n",
       "10                      term__60_months    0.016771        0.977043\n",
       "11              home_ownership_MORTGAGE    0.013642        0.990684\n",
       "12           purpose_debt_consolidation    0.004687        0.995371\n",
       "13                        addr_state_CA    0.004629        1.000000"
      ]
     },
     "execution_count": 144,
     "metadata": {},
     "output_type": "execute_result"
    }
   ],
   "source": [
    "feature_impt_df = (\n",
    "    pd.DataFrame(rfclf.feature_importances_, index=x.columns, columns=['importance'])\n",
    "    .reset_index()\n",
    "    .rename(columns={\"index\":\"features\"})\n",
    "    .sort_values('importance', ascending=False)\n",
    "    .pipe(lambda x: x.assign(cumulative_sum=x.importance.cumsum()))\n",
    "    .reset_index(drop=True)\n",
    "    )\n",
    "feature_impt_df  "
   ]
  },
  {
   "cell_type": "code",
   "execution_count": 145,
   "metadata": {},
   "outputs": [
    {
     "data": {
      "text/html": [
       "<div>\n",
       "<style scoped>\n",
       "    .dataframe tbody tr th:only-of-type {\n",
       "        vertical-align: middle;\n",
       "    }\n",
       "\n",
       "    .dataframe tbody tr th {\n",
       "        vertical-align: top;\n",
       "    }\n",
       "\n",
       "    .dataframe thead th {\n",
       "        text-align: right;\n",
       "    }\n",
       "</style>\n",
       "<table border=\"1\" class=\"dataframe\">\n",
       "  <thead>\n",
       "    <tr style=\"text-align: right;\">\n",
       "      <th></th>\n",
       "      <th>features</th>\n",
       "      <th>importance</th>\n",
       "      <th>cumulative_sum</th>\n",
       "    </tr>\n",
       "  </thead>\n",
       "  <tbody>\n",
       "    <tr>\n",
       "      <th>0</th>\n",
       "      <td>sub_grade</td>\n",
       "      <td>0.570812</td>\n",
       "      <td>0.570812</td>\n",
       "    </tr>\n",
       "    <tr>\n",
       "      <th>1</th>\n",
       "      <td>annual_inc</td>\n",
       "      <td>0.113106</td>\n",
       "      <td>0.683918</td>\n",
       "    </tr>\n",
       "  </tbody>\n",
       "</table>\n",
       "</div>"
      ],
      "text/plain": [
       "     features  importance  cumulative_sum\n",
       "0   sub_grade    0.570812        0.570812\n",
       "1  annual_inc    0.113106        0.683918"
      ]
     },
     "execution_count": 145,
     "metadata": {},
     "output_type": "execute_result"
    }
   ],
   "source": [
    "shortlisted_features_df = feature_impt_df.query(\"importance >= 1/13\")\n",
    "shortlisted_features_df"
   ]
  },
  {
   "cell_type": "markdown",
   "metadata": {},
   "source": [
    "# Conclusion\n",
    "\n",
    "Although the revised random forest model gave a lower score on model performance as compared to the original model, the difference was not a lot, ~3%.\n",
    "\n",
    "However, the result of the feature importance is much clearer and more intuitive to business users. The top features are **sub_grade** and **annual_inc**."
   ]
  },
  {
   "cell_type": "markdown",
   "metadata": {},
   "source": [
    "# Considerations\n",
    "\n",
    "1. To engineer a new feature that gives a scoring on the sentiment of the 'description' and 'title' columns (sentiment analysis)\n",
    "2. To include leading economic indicator(s) as addition feature(s)\n",
    "3. Create a total of 3 folds to cross-validate my model\n",
    "4. Use lasso regression to conduct feature selection\n",
    "5. Use recursive feature elimination to conduct feature selection \n",
    "6. Use decision tree to plot out the how decisions are branched out"
   ]
  }
 ],
 "metadata": {
  "kernelspec": {
   "display_name": "Python 3",
   "language": "python",
   "name": "python3"
  },
  "language_info": {
   "codemirror_mode": {
    "name": "ipython",
    "version": 3
   },
   "file_extension": ".py",
   "mimetype": "text/x-python",
   "name": "python",
   "nbconvert_exporter": "python",
   "pygments_lexer": "ipython3",
   "version": "3.6.3"
  }
 },
 "nbformat": 4,
 "nbformat_minor": 2
}
