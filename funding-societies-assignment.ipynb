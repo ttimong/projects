{
 "cells": [
  {
   "cell_type": "code",
   "execution_count": 1,
   "metadata": {
    "collapsed": true
   },
   "outputs": [],
   "source": [
    "import pandas as pd\n",
    "import numpy as np\n",
    "import matplotlib.pyplot as plt \n",
    "import seaborn as sns\n",
    "\n",
    "from scipy import stats\n",
    "\n",
    "%matplotlib inline\n",
    "pd.set_option('display.max_columns', 100)"
   ]
  },
  {
   "cell_type": "code",
   "execution_count": 35,
   "metadata": {
    "scrolled": true
   },
   "outputs": [
    {
     "name": "stderr",
     "output_type": "stream",
     "text": [
      "/Users/timong/anaconda/envs/py36/lib/python3.6/site-packages/IPython/core/interactiveshell.py:2728: DtypeWarning: Columns (19) have mixed types. Specify dtype option on import or set low_memory=False.\n",
      "  interactivity=interactivity, compiler=compiler, result=result)\n"
     ]
    }
   ],
   "source": [
    "df = pd.read_csv('./loans_fs.csv', index_col=0)"
   ]
  },
  {
   "cell_type": "markdown",
   "metadata": {},
   "source": [
    "1. Predit willingess and ability of a borrower to repay us\n",
    "\n",
    "2. Summarise the data and perform intial analysis on the focus that drive lending decisions (WHO SHOULD WE LEND MONEY TO?)"
   ]
  },
  {
   "cell_type": "markdown",
   "metadata": {},
   "source": [
    "dti: a ratio calculated using the borrower’s total monthly debt payments on the total debt obligations, excluding mortgage and the requested LC loan, divided by the borrower’s self-reported monthly income."
   ]
  },
  {
   "cell_type": "markdown",
   "metadata": {},
   "source": [
    "term: 36 months, 60 months, 600 months\n",
    "\n",
    "payment_plan: y, n\n",
    "\n",
    "grade: A, B, C, D, E, F, G\n",
    "\n",
    "sub_grade: 1 to 5\n",
    "\n",
    "emp_length: < 1 year to 10+ years increment by 1 year\n",
    "\n",
    "home_ownership: rent, own, mortgage, other, none, any\n",
    "\n",
    "verification_status: verified, source verified, not verified\n",
    "\n",
    "loan_status: fully paid, does not meet credit policy. fully paid, current, in grace period, late (16-30 days), late (31-120 days), default, charged off, does not meet credit policy. charged off\n",
    "\n",
    "purpose: credit card, car, small business, wedding, debt consolidation, home improvement, major purchase, medical, moving, vacation, house, renewable energy, educational, other"
   ]
  },
  {
   "cell_type": "code",
   "execution_count": 36,
   "metadata": {
    "scrolled": true
   },
   "outputs": [
    {
     "data": {
      "text/html": [
       "<div>\n",
       "<style scoped>\n",
       "    .dataframe tbody tr th:only-of-type {\n",
       "        vertical-align: middle;\n",
       "    }\n",
       "\n",
       "    .dataframe tbody tr th {\n",
       "        vertical-align: top;\n",
       "    }\n",
       "\n",
       "    .dataframe thead th {\n",
       "        text-align: right;\n",
       "    }\n",
       "</style>\n",
       "<table border=\"1\" class=\"dataframe\">\n",
       "  <thead>\n",
       "    <tr style=\"text-align: right;\">\n",
       "      <th></th>\n",
       "      <th>member_id</th>\n",
       "      <th>loan_amnt</th>\n",
       "      <th>funded_amnt</th>\n",
       "      <th>funded_amnt_inv</th>\n",
       "      <th>term</th>\n",
       "      <th>int_rate</th>\n",
       "      <th>installment</th>\n",
       "      <th>grade</th>\n",
       "      <th>sub_grade</th>\n",
       "      <th>emp_title</th>\n",
       "      <th>emp_length</th>\n",
       "      <th>home_ownership</th>\n",
       "      <th>annual_inc</th>\n",
       "      <th>verification_status</th>\n",
       "      <th>issue_d</th>\n",
       "      <th>loan_status</th>\n",
       "      <th>pymnt_plan</th>\n",
       "      <th>url</th>\n",
       "      <th>desc</th>\n",
       "      <th>purpose</th>\n",
       "      <th>title</th>\n",
       "      <th>zip_code</th>\n",
       "      <th>addr_state</th>\n",
       "      <th>dti</th>\n",
       "    </tr>\n",
       "  </thead>\n",
       "  <tbody>\n",
       "    <tr>\n",
       "      <th>0</th>\n",
       "      <td>1296599</td>\n",
       "      <td>5000.0</td>\n",
       "      <td>5000.0</td>\n",
       "      <td>4975.0</td>\n",
       "      <td>36 months</td>\n",
       "      <td>10.65</td>\n",
       "      <td>162.87</td>\n",
       "      <td>B</td>\n",
       "      <td>B2</td>\n",
       "      <td>NaN</td>\n",
       "      <td>10+ years</td>\n",
       "      <td>RENT</td>\n",
       "      <td>24000.0</td>\n",
       "      <td>Verified</td>\n",
       "      <td>Dec-2011</td>\n",
       "      <td>Fully Paid</td>\n",
       "      <td>n</td>\n",
       "      <td>https://www.lendingclub.com/browse/loanDetail....</td>\n",
       "      <td>Borrower added on 12/22/11 &gt; I need to upgra...</td>\n",
       "      <td>credit_card</td>\n",
       "      <td>Computer</td>\n",
       "      <td>860xx</td>\n",
       "      <td>AZ</td>\n",
       "      <td>27.65</td>\n",
       "    </tr>\n",
       "  </tbody>\n",
       "</table>\n",
       "</div>"
      ],
      "text/plain": [
       "   member_id  loan_amnt  funded_amnt  funded_amnt_inv        term  int_rate  \\\n",
       "0    1296599     5000.0       5000.0           4975.0   36 months     10.65   \n",
       "\n",
       "   installment grade sub_grade emp_title emp_length home_ownership  \\\n",
       "0       162.87     B        B2       NaN  10+ years           RENT   \n",
       "\n",
       "   annual_inc verification_status   issue_d loan_status pymnt_plan  \\\n",
       "0     24000.0            Verified  Dec-2011  Fully Paid          n   \n",
       "\n",
       "                                                 url  \\\n",
       "0  https://www.lendingclub.com/browse/loanDetail....   \n",
       "\n",
       "                                                desc      purpose     title  \\\n",
       "0    Borrower added on 12/22/11 > I need to upgra...  credit_card  Computer   \n",
       "\n",
       "  zip_code addr_state    dti  \n",
       "0    860xx         AZ  27.65  "
      ]
     },
     "execution_count": 36,
     "metadata": {},
     "output_type": "execute_result"
    }
   ],
   "source": [
    "df.head(1)"
   ]
  },
  {
   "cell_type": "code",
   "execution_count": 37,
   "metadata": {},
   "outputs": [
    {
     "name": "stdout",
     "output_type": "stream",
     "text": [
      "<class 'pandas.core.frame.DataFrame'>\n",
      "Int64Index: 887379 entries, 0 to 887378\n",
      "Data columns (total 24 columns):\n",
      "member_id              887379 non-null int64\n",
      "loan_amnt              887379 non-null float64\n",
      "funded_amnt            887379 non-null float64\n",
      "funded_amnt_inv        887379 non-null float64\n",
      "term                   887379 non-null object\n",
      "int_rate               887379 non-null float64\n",
      "installment            887379 non-null float64\n",
      "grade                  887379 non-null object\n",
      "sub_grade              887379 non-null object\n",
      "emp_title              835917 non-null object\n",
      "emp_length             842554 non-null object\n",
      "home_ownership         887379 non-null object\n",
      "annual_inc             887375 non-null float64\n",
      "verification_status    887379 non-null object\n",
      "issue_d                887379 non-null object\n",
      "loan_status            887379 non-null object\n",
      "pymnt_plan             887379 non-null object\n",
      "url                    887379 non-null object\n",
      "desc                   126028 non-null object\n",
      "purpose                887379 non-null object\n",
      "title                  887227 non-null object\n",
      "zip_code               887379 non-null object\n",
      "addr_state             887379 non-null object\n",
      "dti                    887379 non-null float64\n",
      "dtypes: float64(7), int64(1), object(16)\n",
      "memory usage: 169.3+ MB\n"
     ]
    }
   ],
   "source": [
    "df.info()"
   ]
  },
  {
   "cell_type": "code",
   "execution_count": 38,
   "metadata": {},
   "outputs": [
    {
     "data": {
      "text/html": [
       "<div>\n",
       "<style scoped>\n",
       "    .dataframe tbody tr th:only-of-type {\n",
       "        vertical-align: middle;\n",
       "    }\n",
       "\n",
       "    .dataframe tbody tr th {\n",
       "        vertical-align: top;\n",
       "    }\n",
       "\n",
       "    .dataframe thead th {\n",
       "        text-align: right;\n",
       "    }\n",
       "</style>\n",
       "<table border=\"1\" class=\"dataframe\">\n",
       "  <thead>\n",
       "    <tr style=\"text-align: right;\">\n",
       "      <th></th>\n",
       "      <th>member_id</th>\n",
       "      <th>loan_amnt</th>\n",
       "      <th>funded_amnt</th>\n",
       "      <th>funded_amnt_inv</th>\n",
       "      <th>int_rate</th>\n",
       "      <th>installment</th>\n",
       "      <th>annual_inc</th>\n",
       "      <th>dti</th>\n",
       "    </tr>\n",
       "  </thead>\n",
       "  <tbody>\n",
       "    <tr>\n",
       "      <th>count</th>\n",
       "      <td>8.873790e+05</td>\n",
       "      <td>887379.000000</td>\n",
       "      <td>8.873790e+05</td>\n",
       "      <td>887379.000000</td>\n",
       "      <td>887379.000000</td>\n",
       "      <td>887379.000000</td>\n",
       "      <td>8.873750e+05</td>\n",
       "      <td>8.873790e+05</td>\n",
       "    </tr>\n",
       "    <tr>\n",
       "      <th>mean</th>\n",
       "      <td>3.500182e+07</td>\n",
       "      <td>15177.429402</td>\n",
       "      <td>1.890163e+04</td>\n",
       "      <td>14702.464383</td>\n",
       "      <td>13.243805</td>\n",
       "      <td>436.717127</td>\n",
       "      <td>8.237809e+04</td>\n",
       "      <td>-8.562732e+03</td>\n",
       "    </tr>\n",
       "    <tr>\n",
       "      <th>std</th>\n",
       "      <td>2.411335e+07</td>\n",
       "      <td>16084.862871</td>\n",
       "      <td>1.115294e+05</td>\n",
       "      <td>8442.106732</td>\n",
       "      <td>4.771725</td>\n",
       "      <td>244.186593</td>\n",
       "      <td>1.488763e+05</td>\n",
       "      <td>1.375036e+05</td>\n",
       "    </tr>\n",
       "    <tr>\n",
       "      <th>min</th>\n",
       "      <td>7.047300e+04</td>\n",
       "      <td>-50000.000000</td>\n",
       "      <td>-2.000000e+05</td>\n",
       "      <td>0.000000</td>\n",
       "      <td>1.000000</td>\n",
       "      <td>15.670000</td>\n",
       "      <td>-5.000000e+04</td>\n",
       "      <td>-2.500000e+06</td>\n",
       "    </tr>\n",
       "    <tr>\n",
       "      <th>25%</th>\n",
       "      <td>1.087713e+07</td>\n",
       "      <td>8000.000000</td>\n",
       "      <td>8.000000e+03</td>\n",
       "      <td>8000.000000</td>\n",
       "      <td>9.990000</td>\n",
       "      <td>260.705000</td>\n",
       "      <td>4.500000e+04</td>\n",
       "      <td>1.169000e+01</td>\n",
       "    </tr>\n",
       "    <tr>\n",
       "      <th>50%</th>\n",
       "      <td>3.709528e+07</td>\n",
       "      <td>13000.000000</td>\n",
       "      <td>1.290000e+04</td>\n",
       "      <td>13000.000000</td>\n",
       "      <td>12.990000</td>\n",
       "      <td>382.550000</td>\n",
       "      <td>6.400000e+04</td>\n",
       "      <td>1.752000e+01</td>\n",
       "    </tr>\n",
       "    <tr>\n",
       "      <th>75%</th>\n",
       "      <td>5.847135e+07</td>\n",
       "      <td>20000.000000</td>\n",
       "      <td>2.000000e+04</td>\n",
       "      <td>20000.000000</td>\n",
       "      <td>16.290000</td>\n",
       "      <td>572.600000</td>\n",
       "      <td>9.000000e+04</td>\n",
       "      <td>2.386000e+01</td>\n",
       "    </tr>\n",
       "    <tr>\n",
       "      <th>max</th>\n",
       "      <td>7.354484e+07</td>\n",
       "      <td>250000.000000</td>\n",
       "      <td>2.500000e+06</td>\n",
       "      <td>35000.000000</td>\n",
       "      <td>28.990000</td>\n",
       "      <td>1445.460000</td>\n",
       "      <td>9.500000e+06</td>\n",
       "      <td>9.999000e+03</td>\n",
       "    </tr>\n",
       "  </tbody>\n",
       "</table>\n",
       "</div>"
      ],
      "text/plain": [
       "          member_id      loan_amnt   funded_amnt  funded_amnt_inv  \\\n",
       "count  8.873790e+05  887379.000000  8.873790e+05    887379.000000   \n",
       "mean   3.500182e+07   15177.429402  1.890163e+04     14702.464383   \n",
       "std    2.411335e+07   16084.862871  1.115294e+05      8442.106732   \n",
       "min    7.047300e+04  -50000.000000 -2.000000e+05         0.000000   \n",
       "25%    1.087713e+07    8000.000000  8.000000e+03      8000.000000   \n",
       "50%    3.709528e+07   13000.000000  1.290000e+04     13000.000000   \n",
       "75%    5.847135e+07   20000.000000  2.000000e+04     20000.000000   \n",
       "max    7.354484e+07  250000.000000  2.500000e+06     35000.000000   \n",
       "\n",
       "            int_rate    installment    annual_inc           dti  \n",
       "count  887379.000000  887379.000000  8.873750e+05  8.873790e+05  \n",
       "mean       13.243805     436.717127  8.237809e+04 -8.562732e+03  \n",
       "std         4.771725     244.186593  1.488763e+05  1.375036e+05  \n",
       "min         1.000000      15.670000 -5.000000e+04 -2.500000e+06  \n",
       "25%         9.990000     260.705000  4.500000e+04  1.169000e+01  \n",
       "50%        12.990000     382.550000  6.400000e+04  1.752000e+01  \n",
       "75%        16.290000     572.600000  9.000000e+04  2.386000e+01  \n",
       "max        28.990000    1445.460000  9.500000e+06  9.999000e+03  "
      ]
     },
     "execution_count": 38,
     "metadata": {},
     "output_type": "execute_result"
    }
   ],
   "source": [
    "df.describe()"
   ]
  },
  {
   "cell_type": "code",
   "execution_count": 39,
   "metadata": {},
   "outputs": [],
   "source": [
    "# assumptions\n",
    "# funded_amnt, loan_amnt, annual_inc, dti cannot be less than 0. multiply them by -1\n",
    "df_edit = (\n",
    "    df\n",
    "    .pipe(lambda x: x.assign(funded_amnt_edit = np.where(x.funded_amnt<0, x.funded_amnt*-1, x.funded_amnt)))\n",
    "    .pipe(lambda x: x.assign(loan_amnt_edit = np.where(x.loan_amnt<0, x.loan_amnt*-1, x.loan_amnt)))\n",
    "    .pipe(lambda x: x.assign(annual_inc_edit = np.where(x.annual_inc<0, x.annual_inc*-1, x.annual_inc)))\n",
    "    .pipe(lambda x: x.assign(dti_edit = np.where(x.dti<0, x.dti*-1, x.dti)))\n",
    "    .drop([\"funded_amnt\", \"loan_amnt\", \"annual_inc\", \"dti\"], axis=1)\n",
    "    .rename(columns={\"funded_amnt_edit\": \"funded_amnt\", \"loan_amnt_edit\": \"loan_amnt\", \"annual_inc_edit\": \"annual_inc\", \"dti_edit\": \"dti\"})\n",
    "    [[\n",
    "        'member_id', 'loan_amnt', 'funded_amnt', 'funded_amnt_inv', 'int_rate', \n",
    "        'installment', 'grade', 'sub_grade', 'emp_title', 'emp_length',\n",
    "        'home_ownership', 'annual_inc', 'verification_status', 'issue_d',\n",
    "        'loan_status', 'url', 'desc', 'purpose', 'title', 'zip_code',\n",
    "        'addr_state', 'dti', 'term', 'pymnt_plan']]\n",
    ")"
   ]
  },
  {
   "cell_type": "code",
   "execution_count": 40,
   "metadata": {},
   "outputs": [
    {
     "name": "stdout",
     "output_type": "stream",
     "text": [
      "erroneous rows: 4991\n",
      "number of rows in raw data: 887379\n"
     ]
    }
   ],
   "source": [
    "# assumptions \n",
    "# funded_amnt or funded_amnt_inv cannot be more than loan_amnt\n",
    "# funded_amnt_inv cannot be more than funded_amnt\n",
    "\n",
    "# checking out how many rows will be removed\n",
    "count = df_edit.query(\"funded_amnt_inv > loan_amnt or funded_amnt > loan_amnt or funded_amnt_inv > funded_amnt\").shape[0]\n",
    "print(\"erroneous rows: \" + str(count))\n",
    "\n",
    "print(\"number of rows in raw data: \" + str(df_edit.shape[0]))"
   ]
  },
  {
   "cell_type": "code",
   "execution_count": 41,
   "metadata": {
    "collapsed": true
   },
   "outputs": [],
   "source": [
    "# since assumed erroneous rows is only approx ~0.5% of raw data, I will remove them\n",
    "df_edit = df_edit.query(\"funded_amnt_inv <= loan_amnt and funded_amnt <= loan_amnt and funded_amnt_inv <= funded_amnt\")"
   ]
  },
  {
   "cell_type": "code",
   "execution_count": 42,
   "metadata": {},
   "outputs": [
    {
     "data": {
      "text/html": [
       "<div>\n",
       "<style scoped>\n",
       "    .dataframe tbody tr th:only-of-type {\n",
       "        vertical-align: middle;\n",
       "    }\n",
       "\n",
       "    .dataframe tbody tr th {\n",
       "        vertical-align: top;\n",
       "    }\n",
       "\n",
       "    .dataframe thead th {\n",
       "        text-align: right;\n",
       "    }\n",
       "</style>\n",
       "<table border=\"1\" class=\"dataframe\">\n",
       "  <thead>\n",
       "    <tr style=\"text-align: right;\">\n",
       "      <th></th>\n",
       "      <th>member_id</th>\n",
       "      <th>loan_amnt</th>\n",
       "      <th>funded_amnt</th>\n",
       "      <th>funded_amnt_inv</th>\n",
       "      <th>int_rate</th>\n",
       "      <th>installment</th>\n",
       "      <th>annual_inc</th>\n",
       "      <th>dti</th>\n",
       "    </tr>\n",
       "  </thead>\n",
       "  <tbody>\n",
       "    <tr>\n",
       "      <th>count</th>\n",
       "      <td>8.823880e+05</td>\n",
       "      <td>882388.000000</td>\n",
       "      <td>882388.000000</td>\n",
       "      <td>882388.000000</td>\n",
       "      <td>882388.000000</td>\n",
       "      <td>882388.000000</td>\n",
       "      <td>8.823840e+05</td>\n",
       "      <td>8.823880e+05</td>\n",
       "    </tr>\n",
       "    <tr>\n",
       "      <th>mean</th>\n",
       "      <td>3.499902e+07</td>\n",
       "      <td>15446.178014</td>\n",
       "      <td>14955.470666</td>\n",
       "      <td>14693.755111</td>\n",
       "      <td>13.242777</td>\n",
       "      <td>436.472471</td>\n",
       "      <td>7.898852e+04</td>\n",
       "      <td>4.299142e+03</td>\n",
       "    </tr>\n",
       "    <tr>\n",
       "      <th>std</th>\n",
       "      <td>2.411495e+07</td>\n",
       "      <td>14319.637392</td>\n",
       "      <td>9769.882116</td>\n",
       "      <td>8436.780490</td>\n",
       "      <td>4.771752</td>\n",
       "      <td>244.024472</td>\n",
       "      <td>1.150226e+05</td>\n",
       "      <td>9.723190e+04</td>\n",
       "    </tr>\n",
       "    <tr>\n",
       "      <th>min</th>\n",
       "      <td>7.047300e+04</td>\n",
       "      <td>500.000000</td>\n",
       "      <td>500.000000</td>\n",
       "      <td>0.000000</td>\n",
       "      <td>1.000000</td>\n",
       "      <td>15.670000</td>\n",
       "      <td>0.000000e+00</td>\n",
       "      <td>0.000000e+00</td>\n",
       "    </tr>\n",
       "    <tr>\n",
       "      <th>25%</th>\n",
       "      <td>1.086971e+07</td>\n",
       "      <td>8000.000000</td>\n",
       "      <td>8000.000000</td>\n",
       "      <td>8000.000000</td>\n",
       "      <td>9.990000</td>\n",
       "      <td>260.550000</td>\n",
       "      <td>4.500000e+04</td>\n",
       "      <td>1.195000e+01</td>\n",
       "    </tr>\n",
       "    <tr>\n",
       "      <th>50%</th>\n",
       "      <td>3.708695e+07</td>\n",
       "      <td>13000.000000</td>\n",
       "      <td>13000.000000</td>\n",
       "      <td>13000.000000</td>\n",
       "      <td>12.990000</td>\n",
       "      <td>382.550000</td>\n",
       "      <td>6.450000e+04</td>\n",
       "      <td>1.772000e+01</td>\n",
       "    </tr>\n",
       "    <tr>\n",
       "      <th>75%</th>\n",
       "      <td>5.847158e+07</td>\n",
       "      <td>20000.000000</td>\n",
       "      <td>20000.000000</td>\n",
       "      <td>20000.000000</td>\n",
       "      <td>16.290000</td>\n",
       "      <td>571.870000</td>\n",
       "      <td>9.000000e+04</td>\n",
       "      <td>2.407000e+01</td>\n",
       "    </tr>\n",
       "    <tr>\n",
       "      <th>max</th>\n",
       "      <td>7.354484e+07</td>\n",
       "      <td>250000.000000</td>\n",
       "      <td>200000.000000</td>\n",
       "      <td>35000.000000</td>\n",
       "      <td>28.990000</td>\n",
       "      <td>1445.460000</td>\n",
       "      <td>9.500000e+06</td>\n",
       "      <td>2.500000e+06</td>\n",
       "    </tr>\n",
       "  </tbody>\n",
       "</table>\n",
       "</div>"
      ],
      "text/plain": [
       "          member_id      loan_amnt    funded_amnt  funded_amnt_inv  \\\n",
       "count  8.823880e+05  882388.000000  882388.000000    882388.000000   \n",
       "mean   3.499902e+07   15446.178014   14955.470666     14693.755111   \n",
       "std    2.411495e+07   14319.637392    9769.882116      8436.780490   \n",
       "min    7.047300e+04     500.000000     500.000000         0.000000   \n",
       "25%    1.086971e+07    8000.000000    8000.000000      8000.000000   \n",
       "50%    3.708695e+07   13000.000000   13000.000000     13000.000000   \n",
       "75%    5.847158e+07   20000.000000   20000.000000     20000.000000   \n",
       "max    7.354484e+07  250000.000000  200000.000000     35000.000000   \n",
       "\n",
       "            int_rate    installment    annual_inc           dti  \n",
       "count  882388.000000  882388.000000  8.823840e+05  8.823880e+05  \n",
       "mean       13.242777     436.472471  7.898852e+04  4.299142e+03  \n",
       "std         4.771752     244.024472  1.150226e+05  9.723190e+04  \n",
       "min         1.000000      15.670000  0.000000e+00  0.000000e+00  \n",
       "25%         9.990000     260.550000  4.500000e+04  1.195000e+01  \n",
       "50%        12.990000     382.550000  6.450000e+04  1.772000e+01  \n",
       "75%        16.290000     571.870000  9.000000e+04  2.407000e+01  \n",
       "max        28.990000    1445.460000  9.500000e+06  2.500000e+06  "
      ]
     },
     "execution_count": 42,
     "metadata": {},
     "output_type": "execute_result"
    }
   ],
   "source": [
    "df_edit.describe()"
   ]
  },
  {
   "cell_type": "code",
   "execution_count": 43,
   "metadata": {
    "collapsed": true
   },
   "outputs": [],
   "source": [
    "# seems there are some erroneous entry in dti\n",
    "# will use IQR to remove outliers\n",
    "upper_limit = np.percentile(df_edit.dti, 75) + (stats.iqr(df_edit.dti) * 1.5)\n",
    "lower_limit = np.percentile(df_edit.dti, 25) - (stats.iqr(df_edit.dti) * 1.5)\n",
    "\n",
    "df_edit = df_edit.query(\"dti >= {lower} and dti <= {upper}\".format(lower=lower_limit, upper=upper_limit))"
   ]
  },
  {
   "cell_type": "code",
   "execution_count": 44,
   "metadata": {},
   "outputs": [
    {
     "name": "stdout",
     "output_type": "stream",
     "text": [
      "number of rows originally: 887379\n",
      "number of rows left: 877304\n"
     ]
    }
   ],
   "source": [
    "print(\"number of rows originally: \" + str(df.shape[0]))\n",
    "print(\"number of rows left: \" + str(df_edit.shape[0]))"
   ]
  },
  {
   "cell_type": "code",
   "execution_count": 45,
   "metadata": {},
   "outputs": [
    {
     "data": {
      "text/plain": [
       "array(['Fully Paid', 'Charged Off', 'Current', 'Default',\n",
       "       'Late (31-120 days)', 'In Grace Period', 'Late (16-30 days)',\n",
       "       'Does not meet the credit policy. Status:Fully Paid',\n",
       "       'Does not meet the credit policy. Status:Charged Off', 'Issued'], dtype=object)"
      ]
     },
     "execution_count": 45,
     "metadata": {},
     "output_type": "execute_result"
    }
   ],
   "source": [
    "df_edit.loan_status.unique()"
   ]
  },
  {
   "cell_type": "code",
   "execution_count": 46,
   "metadata": {},
   "outputs": [
    {
     "data": {
      "text/plain": [
       "array([' 36 months', ' 60 months', '600 months'], dtype=object)"
      ]
     },
     "execution_count": 46,
     "metadata": {},
     "output_type": "execute_result"
    }
   ],
   "source": [
    "df_edit.term.unique()"
   ]
  },
  {
   "cell_type": "code",
   "execution_count": 47,
   "metadata": {},
   "outputs": [],
   "source": [
    "# converting payment terms into integers\n",
    "df_edit['term2'] = [int(i.split()[0]) for i in df_edit.term]\n",
    "\n",
    "# changing payment_plan to 1 (y) and 0 (n) and filling na with 999\n",
    "# defining borrowers who are willing to make repayments are loans with status \"Fully Paid\" and \"Current\"\n",
    "# removing loan status \"Issued\" because it cannot be determine whether are they willing to pay\n",
    "# creating new feature funded_amnt_lc. assuming that lc top ups loans that there aren't enough investors\n",
    "df_edit = (\n",
    "    df_edit\n",
    "    .query(\"loan_status != 'Issued'\")\n",
    "    .pipe(lambda x: x.assign(payment_plan = np.where(x.pymnt_plan=='y',1,0)))\n",
    "    .pipe(lambda x: x.assign(\n",
    "            loan_status_mod = np.where(x.loan_status == 'Fully Paid',1,\n",
    "                                       np.where(x.loan_status == 'Current',1,\n",
    "                                                np.where(x.loan_status == 'Does not meet the credit policy. Status:Fully Paid',1,0)))))\n",
    "    .pipe(lambda x: x.assign(funded_amnt_lc=x.funded_amnt-x.funded_amnt_inv))\n",
    "    .drop(['term', 'pymnt_plan'], axis=1)\n",
    "    .rename(columns={\"term2\": \"term\"})\n",
    "    .fillna(999)\n",
    "    [['member_id', 'loan_amnt', 'funded_amnt', 'funded_amnt_inv', 'funded_amnt_lc', 'int_rate',\n",
    "       'installment', 'grade', 'sub_grade', 'emp_title', 'emp_length',\n",
    "       'home_ownership', 'annual_inc', 'verification_status', 'issue_d',\n",
    "       'loan_status', 'loan_status_mod', 'url', 'desc', 'purpose', 'title', 'zip_code',\n",
    "       'addr_state', 'dti', 'term', 'payment_plan']]\n",
    "    )"
   ]
  },
  {
   "cell_type": "code",
   "execution_count": 60,
   "metadata": {
    "scrolled": true
   },
   "outputs": [
    {
     "data": {
      "image/png": "[encoded data removed]",
      "text/plain": [
       "<matplotlib.figure.Figure at 0x1a0ce4d3c8>"
      ]
     },
     "metadata": {},
     "output_type": "display_data"
    }
   ],
   "source": [
    "_ = plt.figure(figsize=(20,5))\n",
    "_ = plt.subplot(131)\n",
    "_ = sns.boxplot(x='loan_status_mod', y='loan_amnt', data=df_edit)\n",
    "\n",
    "_ = plt.subplot(132)\n",
    "_ = sns.barplot()\n"
   ]
  },
  {
   "cell_type": "code",
   "execution_count": 48,
   "metadata": {},
   "outputs": [
    {
     "data": {
      "image/png": "[encoded data removed]",
      "text/plain": [
       "<matplotlib.figure.Figure at 0x1a87b6eb38>"
      ]
     },
     "metadata": {},
     "output_type": "display_data"
    }
   ],
   "source": [
    "_ = plt.figure(figsize=(20,5))\n",
    "_ = plt.subplot(131)\n",
    "_ = sns.distplot(df_edit.loan_amnt)\n",
    "_ = plt.title('frequency distribution of loan amount')\n",
    "\n",
    "_ = plt.subplot(132)\n",
    "_ = sns.distplot(df_edit.funded_amnt)\n",
    "_ = plt.title('frequency distribution of funded amount')\n",
    "\n",
    "_ = plt.subplot(133)\n",
    "_ = sns.distplot(df_edit.funded_amnt_inv)\n",
    "_ = plt.title('frequency distribution of funded amount by investors')\n",
    "\n",
    "plt.subplots_adjust(top=0.92, bottom=0.08, left=0.10, right=0.95, hspace=0.25, wspace=0.35)"
   ]
  },
  {
   "cell_type": "code",
   "execution_count": null,
   "metadata": {
    "collapsed": true
   },
   "outputs": [],
   "source": []
  }
 ],
 "metadata": {
  "kernelspec": {
   "display_name": "Python 3",
   "language": "python",
   "name": "python3"
  },
  "language_info": {
   "codemirror_mode": {
    "name": "ipython",
    "version": 3
   },
   "file_extension": ".py",
   "mimetype": "text/x-python",
   "name": "python",
   "nbconvert_exporter": "python",
   "pygments_lexer": "ipython3",
   "version": "3.6.3"
  }
 },
 "nbformat": 4,
 "nbformat_minor": 2
}
